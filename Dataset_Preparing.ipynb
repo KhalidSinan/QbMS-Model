{
  "nbformat": 4,
  "nbformat_minor": 0,
  "metadata": {
    "colab": {
      "provenance": [],
      "gpuType": "T4"
    },
    "kernelspec": {
      "name": "python3",
      "display_name": "Python 3"
    },
    "language_info": {
      "name": "python"
    },
    "accelerator": "GPU"
  },
  "cells": [
    {
      "cell_type": "code",
      "execution_count": 2,
      "metadata": {
        "id": "ajM3rsIESlp6",
        "colab": {
          "base_uri": "https://localhost:8080/"
        },
        "outputId": "503b07a8-05ec-4744-ead5-7d6793944e6a"
      },
      "outputs": [
        {
          "output_type": "stream",
          "name": "stderr",
          "text": [
            "/usr/local/lib/python3.11/dist-packages/cudf/utils/gpu_utils.py:75: UserWarning: Failed to dlopen libcuda.so.1\n",
            "  warnings.warn(str(e))\n",
            "/usr/local/lib/python3.11/dist-packages/cudf/pandas/__init__.py:64: UserWarning: Function \"cuInit\" not found\n",
            "  warnings.warn(str(e))\n"
          ]
        }
      ],
      "source": [
        "%load_ext cudf.pandas\n",
        "import pandas as pd\n",
        "import json"
      ]
    },
    {
      "cell_type": "code",
      "source": [
        "def read_json_file(file):\n",
        "  with open(file) as f:\n",
        "    data = json.load(f)\n",
        "  return data"
      ],
      "metadata": {
        "id": "cElcKdIKTneg"
      },
      "execution_count": 3,
      "outputs": []
    },
    {
      "cell_type": "code",
      "source": [
        "def make_dataframe_from_json(file):\n",
        "  data = read_json_file(file)\n",
        "  return pd.DataFrame(data)"
      ],
      "metadata": {
        "id": "ePQFGkaaT7bn"
      },
      "execution_count": 4,
      "outputs": []
    },
    {
      "cell_type": "code",
      "source": [
        "df_with_query = make_dataframe_from_json('merged_final_malak.json')\n",
        "df_with_query.head()"
      ],
      "metadata": {
        "colab": {
          "base_uri": "https://localhost:8080/",
          "height": 206
        },
        "id": "1Dy9XVzGUCJP",
        "outputId": "357c7054-e300-4dce-fdb0-53dd93255de7"
      },
      "execution_count": 5,
      "outputs": [
        {
          "output_type": "execute_result",
          "data": {
            "text/plain": [
              "                                              prompt  \\\n",
              "0  What action was taken regarding the motion to ...   \n",
              "1  What decision was made regarding the entertain...   \n",
              "2  What was the outcome of the vote to approve am...   \n",
              "3  What are the key concerns raised by the public...   \n",
              "4  What were the key decisions made regarding the...   \n",
              "\n",
              "                                  meeting_transcript  \\\n",
              "0  Speaker 5: Not been withdrawn. We need to I th...   \n",
              "1  Speaker 4: Let's give them a round of applause...   \n",
              "2  Speaker 4: See there's a motion in a second. M...   \n",
              "3  Speaker 4: Well, thank you very much. And with...   \n",
              "4  Speaker 0: Motion carries.\\nSpeaker 4: Thank y...   \n",
              "\n",
              "                                             summary  \n",
              "0  A motion to continue the item for one week was...  \n",
              "1  The decision made regarding the entertainment ...  \n",
              "2  The vote to approve amendments to the terms an...  \n",
              "3  Here's a summary of the key concerns raised an...  \n",
              "4  The meeting transcript indicates that a motion...  "
            ],
            "text/html": [
              "<div>\n",
              "<style scoped>\n",
              "    .dataframe tbody tr th:only-of-type {\n",
              "        vertical-align: middle;\n",
              "    }\n",
              "\n",
              "    .dataframe tbody tr th {\n",
              "        vertical-align: top;\n",
              "    }\n",
              "\n",
              "    .dataframe thead th {\n",
              "        text-align: right;\n",
              "    }\n",
              "</style>\n",
              "<table border=\"1\" class=\"dataframe\">\n",
              "  <thead>\n",
              "    <tr style=\"text-align: right;\">\n",
              "      <th></th>\n",
              "      <th>prompt</th>\n",
              "      <th>meeting_transcript</th>\n",
              "      <th>summary</th>\n",
              "    </tr>\n",
              "  </thead>\n",
              "  <tbody>\n",
              "    <tr>\n",
              "      <th>0</th>\n",
              "      <td>What action was taken regarding the motion to ...</td>\n",
              "      <td>Speaker 5: Not been withdrawn. We need to I th...</td>\n",
              "      <td>A motion to continue the item for one week was...</td>\n",
              "    </tr>\n",
              "    <tr>\n",
              "      <th>1</th>\n",
              "      <td>What decision was made regarding the entertain...</td>\n",
              "      <td>Speaker 4: Let's give them a round of applause...</td>\n",
              "      <td>The decision made regarding the entertainment ...</td>\n",
              "    </tr>\n",
              "    <tr>\n",
              "      <th>2</th>\n",
              "      <td>What was the outcome of the vote to approve am...</td>\n",
              "      <td>Speaker 4: See there's a motion in a second. M...</td>\n",
              "      <td>The vote to approve amendments to the terms an...</td>\n",
              "    </tr>\n",
              "    <tr>\n",
              "      <th>3</th>\n",
              "      <td>What are the key concerns raised by the public...</td>\n",
              "      <td>Speaker 4: Well, thank you very much. And with...</td>\n",
              "      <td>Here's a summary of the key concerns raised an...</td>\n",
              "    </tr>\n",
              "    <tr>\n",
              "      <th>4</th>\n",
              "      <td>What were the key decisions made regarding the...</td>\n",
              "      <td>Speaker 0: Motion carries.\\nSpeaker 4: Thank y...</td>\n",
              "      <td>The meeting transcript indicates that a motion...</td>\n",
              "    </tr>\n",
              "  </tbody>\n",
              "</table>\n",
              "</div>"
            ],
            "application/vnd.google.colaboratory.intrinsic+json": {
              "type": "dataframe",
              "variable_name": "df_with_query",
              "summary": "{\n  \"name\": \"df_with_query\",\n  \"rows\": 1400,\n  \"fields\": [\n    {\n      \"column\": \"prompt\",\n      \"properties\": {\n        \"dtype\": \"string\",\n        \"num_unique_values\": 1399,\n        \"samples\": [\n          \"What are the key changes and justifications for amending the legislation regarding adjustments to wastewater volume charges for water leaks?\",\n          \"What are the key changes being made to the Seattle Youth Commission, and what is the committee's recommendation for the bill?\",\n          \"What are the key adjustments recommended in the fiscal year 2019 first departmental and Fund Budget Appropriation Adjustment Report, and what are the primary reasons for these adjustments?\"\n        ],\n        \"semantic_type\": \"\",\n        \"description\": \"\"\n      }\n    },\n    {\n      \"column\": \"meeting_transcript\",\n      \"properties\": {\n        \"dtype\": \"string\",\n        \"num_unique_values\": 1392,\n        \"samples\": [\n          \"Speaker 0: Motion is carried.\\nSpeaker 3: Thank you. If I can get a motion on item 14, please. And this is the final item that adopts the budget. And so can I get a motion any second please, on that? I think I'm going to I have some comments I want to make generally about the budget and then we will take the final vote. If anyone has any final comments, this would be the time to do so. I want to I want to just start by really thanking the Budget Oversight Committee. I want to thank you, Councilmember Austin, the chair, and the other members of the of the committee. Councilman Gringa and Councilwoman Price, for your really, really hard work and commitment to the city and the budget process. I also want to take a moment to thank the budget staff headed by Ms.. Yoon and Mr. GROSS, of course, and the entire team who work on the budget, not just during budget season, but all year long. And so thank you very much for your incredible work as well. And, of course, to the really hundreds of people that were invested through community surveys, community meetings, attending the council meetings in a variety of ways. I just want to thank everyone that was a part of the budget. I want to also just note that this budget that we have in front of us, the 22 budget, is balanced. It's responsible. And it reflects the city's strong recovery from this historic economic and public health crisis. This budget includes no cuts, no deficit. Replenishes our reserves and positions. Long Beach to continue building back stronger than ever before. We are making historic investments. In public health. And in securing our city's future. And in violence prevention work across the community. I want to thank this Council for their leadership and work throughout this year. It has been a difficult year, but we are grateful to all that. We've been involved in this process and in passing a budget that is responsible and reflects what our needs are is really important and really glad to see that happening tonight. And as we move forward on with that, again, I want to thank the makers of the Motion Councilmember Austin Councilman Ranga Guzman. Ask and give any final comments.\\nSpeaker 8: I think I gave my comments. I just want to say thank you to everybody who participated in the process. Thank you, Mayor, for working with us and all of my colleagues for the confidence and collaboration to make this happen. Thank you.\\nSpeaker 3: And Councilman Garrincha.\\nSpeaker 7: Great work on everybody's part for everything that has been done today. I want to especially thank the staff. I mean, they were really wonderful in doing the most difficult part of the heavy lifting, if you will, for this budget. Thank you.\\nSpeaker 3: Councilman. Councilwoman in the house.\\nSpeaker 9: Thank you, Mayor. Thank you so much again to our oversight committee for all the hard work. But I also want to uplift all of the community organizations that worked really hard on the budget and really came to to a lot of meetings with me and my office. And I really got a chance to get to know them and get to see where they're coming from and the needs in the community. So I just really wanted to uplift them and and also say that years ago, years ago, the people's budget was only a dream. And I think that throughout the years we've been taking as much as we can and implementing it into our budget. And I'm glad to see that there's a lot of focus on on our youth because I really think that there is a key in us. Investing in them is definitely the key to, you know, to ending hopefully are violent crimes in our city. So again, I think this is very hard work but very balanced and responsible budget, as you said. Mayor. So thank you, Chair Ashton, for all your hard work in the committee and I look forward to another great year, especially seeing this this amount of dedication to a budget and being able to not come out in a deficit is something that we as a city should be very proud of.\\nSpeaker 3: Thank you. Councilwoman Vice Mayor Richardson.\\nSpeaker 1: Thank you, Mr. Mayor. Just want to take a moment and just acknowledge the significance of this budget. I want to thank all the community members who participated for a very long time. It seems like we've talked about this budget and it's, you know, the recovery plan and conversations and through the budget process. And then we here we are tonight, and it's significant because we don't typically have these types of resources, but also we have a new revenue source with Measure US that we look forward to doing a lot of good, touching a lot of people in the areas of public health, climate and youth. And so tonight we made a significant commitment to youth in our city. We established our first million dollar youth fund. Our entire city council should be proud of that and should get out and make sure that community based organizations are engaged and support is going their way to make sure that we're supporting and have a world class youth development program here in the city of Long Beach. I want to thank Councilman Austin are chair of the Budget Oversight Committee for being a good steward of this process. Thanks to our mayor for his leadership, the federal legislative committee, for working hard on the that resources and city staff. Thank you so much.\\nSpeaker 3: Thank you. Councilman.\\nSpeaker 5: Yes. I just want to add my thanks as well to staff and to chair Austin of the Budget Oversight Committee, as well as the committee members and staff as well. It's been an interesting first budget process for sure. It's historic in the sense of this kind of resource and the challenge we face. I can't think of a better way, I guess, to learn about budgeting. So I appreciate everyone's patience around the process. And, you know, it's, you know, just thank you for everyone's hard work. Thank you.\\nSpeaker 3: Thank you. That concludes comment on the budget members please Gordon, cast your votes.\",\n          \"Speaker 10: Okay. First of all, I'd like to call Harry number one.\\nSpeaker 2: Hitting item one is a report from economic development recommendations to receive supporting documentation into the record. Conclude the public hearing and Adobe resolution. Continuing the East Anaheim Street BID's Parking and business improvement area assessment and authorize city manager to act to extend the agreement with the Safe Area Business Association for one year term District three and four staff report.\\nSpeaker 13: Yes, we will have a staff presentation by Eric Romero, our project manager.\\nSpeaker 4: Honorable City Council members. This item is the annual approval of the East Anaheim Street Parking and Business Improvement Area Annual Ongoing Assessment. The city contracts with the Zafira Business Association to promote business activity and market the East Anaheim Street commercial area, using funds generated through the assessment of businesses located in the East Anaheim Street Parking and business improvement area. To continue the assessment state law requires that a public hearing be held on the proposed program and assessment. On October 2nd, 2018, the City Council approved a resolution granting approval of the annual report and set today's date for the public hearing staff request. The City Council received the supporting documentation into the record, approve the resolution, continue the assessment and authorize the city manager to extend the agreement for one additional year. That concludes my report.\\nSpeaker 10: Okay. Council member super or not.\\nSpeaker 3: I stand in support and I'd like to go to public comment.\\nSpeaker 10: Okay. Any public comment on this item?\\nSpeaker 7: I stand in support to go Zakaria.\\nSpeaker 4: I was going to call you.\\nSpeaker 7: There are awesome.\\nSpeaker 10: I'll say this is a public comment on the item before us, which is a renewal for the Business Improvement District.\\nSpeaker 6: Please say hello to the council members. Hi, Mayor. My name is Latoya Marshall. I am currently a homeless person who has been homeless for two years and it just like astonish me that I could just sit at there and make jokes about stuff. Y'all waste our time sitting up here. King George is Marshall the size of a way. Excuse me. Now this building. Excuse me. I'm talking. I need you to talk about this building. Right. I understand you have a right to my opinion.\\nSpeaker 10: This is not about the building.\\nSpeaker 6: You said the parking and everything else. Zone is Anaheim, right?\\nSpeaker 10: Okay, so if you can stick to the point.\\nSpeaker 6: I know I am making a point.\\nSpeaker 10: Thank you.\\nSpeaker 6: My point is, you guys are constantly building up buildings, parking everything else. But you guys have not made no buildings for low income. Anything that is helping the community stay doing these restaurants that is closing down right when they open up. Now you need parking and in half the time people are parking in the parking stars that they have for those apartment buildings are these units. The units are built saying that they're low income housing. Then after they're done, they're condos. So what is really going on? When are the council members really going to start telling the community their true and where this money or funding is going? Because I'm not seeing anything done. They're supposed to be doing yard work, 2 hours to not come up with nothing. And now we're talking about parking. We didn't even get to no public comment, no nothing. We don't push everything up on calendar like people ain't got nothing to do. Now I'm homeless. I've been homeless for two years. And now y'all got these elections coming up. I hope everybody is removed from my seat.\\nSpeaker 10: Thank you for your comments. Any further public comment on this particular item? Here? None. Please cast your vote on the motion.\",\n          \"Speaker 0: Thank you. And with that members, Mr. Gordon, cast your votes. Ocean carries 13, please.\\nSpeaker 1: Communication from Councilmember Urunga Council member Pearce, Councilwoman Price. Councilman Mungo Recommendation to request city attorney to amend the Polystyrene Food Packaging Ordinance to remove the exemption for number six plastic lids by city manager to work with Public Works Environmental Services Bureau to align implementation of these amendments with Phase three of the expanded polystyrene ordinance.\\nSpeaker 0: Thank you, Councilman Ringa.\\nSpeaker 7: Thank you, Mayor. And I want to thank my colleagues to join me on this item, Councilmember Pearce, Price and Mongo. It's very important for us to continue the efforts that we started with the number 12 item quality. Before I begin, I want to make just a quick quote that I always use when we have items like this come forward and that is change is inevitable. And in a progressive society, change is constant. And that's why one of my favorite philosophers, Benjamin Disraeli. And that's what we are doing here. We're looking at including straws and other smaller, smaller polystyrene products. It becomes very important for us to make a commitment to improve our our surroundings, protect our and protect our environment. As a member of the City Council and as a member of the Coastal Commission. It's important for me to keep in mind that we want to keep our environment clean and we want to keep that access to our beaches as well as we can. So before I begin with a with a report from from staff, I'd like to show a little brief video we can to that up, please. Well, that was.\\nSpeaker 8: I've been working.\\nSpeaker 2: In the same way. Missing now the cracks in the. And in my own store, in my free.\\nSpeaker 5: Who call. No, thank you. Please, my. Anglo is just wondering.\\nSpeaker 2: From my.\\nSpeaker 5: Home town. We? I like it.\\nSpeaker 2: In the city when the air is so. Everybody. Shops and shops. He ran to. King defense I. Shows The way ain't gonna stand shit show the way I united shows the we ain't gonna take. Shows the way ain't gonna stand shit show Louis United.\\nSpeaker 7: Thank you for that. I don't mean to limit it on a bummer, but, you know, it's very real with what's happening in this world in terms of what I would plastics. So I'm not going to go a lot into it. I think we already seen the video. It's pretty compelling in terms of the message that it says. So with that, I want to basically just give two options here that we want that I would like to have included in the food packaging ordinance. Never be for one to remove the exemption for number six plastic lids to encourage a transition to recyclable alternatives and to include language that all straws be made available only upon request in any food establishment. And that those straws must be plastic, must be not be plastic or bioplastic. The first proposal, basically, is to eliminate the use of plastic covers and use alternatives, and the second is to make straws available only upon request. You know, I went to my local convenience store and I bought a package here of 25 straws for $2. So they're very affordable. They're they're paper. And I know that people have an issue with paper. There's also issues with people with disabilities who have to absolutely have straws that are more easily usable and don't biodegrade as quickly as maybe a paper straw. But there are other alternatives, and I would love to have that when the report comes back that we could get some artful options included in there that people can use as far as alternatives to straws made out of maybe not only paper, but there's options like pasta. And I heard one today from from acting the acting secretary of the Apple Apple Straws, which was amazing to me. So there are some alternatives out there. And if people really have a need for a straw, you could buy some of these metal straws that fold easily into your pocket. I think I gave each one of you one here. But basically what it is, is it's a straw in a little container. It holds up very easily. Well, if I can get my out here just to demonstrate what's taking place. That's real good, right? I mean, you know, you're trying to show something. You can get it out. There you go. So it folds and it goes into this little container that you have. And then when you stretch it out, there's a strong you can pull it back and put it in. It also comes with the little brush where you can so that you can clean it inside. So if if a person really needs to have a struggle with him on a constant basis all the time, you could get get one of these also, you can buy one of these in your convenience store as well as to make that available for you. So with that, I want to wish that they could get the support of my colleagues to support this these amendments to the the food the food packaging audience so that we can make straws less polluting and protect our oceans. Thank you.\\nSpeaker 0: Thank you, Councilman Price.\\nSpeaker 6: Thank you, Councilmember, for bringing this item forward. I support it. I really like that video. Thank you for sharing that with us. And as a Coastal Commissioner, I'm sure you hear lots and lots of really unfortunate stories about how pollution impacts habitats and the oceans. So thank you for sharing that experience with us on the Council. I do have a question. I do. I like the option of allowing straws upon request, but can we have some sort of a phase out option that allows them to phase out their plastic straws if they already have them? So like it would still be option a straw upon request, but they could finish out the plastic straws that they have. So give them like, I don't know, six months to comply or something.\\nSpeaker 7: It would be. I would be open to that. Yes.\\nSpeaker 6: Thank you.\\nSpeaker 9: And if I could just add kind of a timing component to this discussion, we would need to come back with an ordinance in conference with the city attorney that would need two readings. So it would be a real challenge for us to do that before December 3rd. So maybe what council is discussing this evening, if it were to be passed, this could become, say, a phase four. And we pick a time frame that would whether that's January or something along those lines, that we would implement this kind of phase four element. That would be a suggestion to this council.\\nSpeaker 7: Well, since I agree with Councilman Price's recommendation about phasing, and I think that would be an appropriate approach to this this issue. Yeah.\\nSpeaker 0: Thank you, Vice Mayor Andrews.\\nSpeaker 3: Yes, thank you. And I want to thank my colleague and council. We rang up to bring this item forward because I think a lot of people look at items such as these and wonder why we adopted them because were not really nitpicking. And I believe everyone it was called to be a good steward of their environment. And more importantly, we have been elected to be a steward of our city. You know, straws can be seen as a small matter, but it litters our beaches and streets. Today, the Wrigley cleanup team points out stars are one of the major items that they collect when they clean around the neighborhood. So we can adopt some alternative we should, and in doing so, will make our city much cleaner. Thank you very much, Mr. Urunga, for bringing this.\\nSpeaker 0: Thank you, Councilwoman Mongo.\\nSpeaker 2: Thank you. I just wanted to comment. Recently traveled to Oakland and in meeting with our former airport director who happened to be at the Oakland airport, we talked about what type of stores they had there and they were made out of apples. The county of Los Angeles had cups and lids made out of corn. They don't taste like corn. They don't taste like apples. They taste like any other straw. And they're far superior to the paper straws. And so I don't know what research we can do, but he said that after mass purchasing for the entire airport, they were able to bring those costs down considerably. I'm a person who drinks nearly everything out of a straw. Many, many years ago, I have tooth sensitivity. I know other people drink out of straws to keep their teeth white because they drink coffee out of straws. I don't. But there are lots of reasons why straws are very useful. And so I'd love for us to be very pragmatic about the options and hopefully create another product people want to buy that's environmentally friendly. So thank you for this councilmember. I think the timing on this is great this time. I think more cities and regions have really adopted environmentally friendly options, and so I think this will get us there.\\nSpeaker 0: Thank you. Customer Supernova.\\nSpeaker 8: Thank you. I just wanted clarification on on the proposed ordinance. So we're looking to stop the, let's say, restaurants from having the products in stock. But the behavior is not regulated here, that someone can bring a plastic straw into a restaurant and use it. Is that correct? And so the issue of people with disabilities. I would just like to maybe explore that if I don't understand the difference. If someone on demand wanted a plastic straw, but due to a disability, would that be feasible or would this ban just outlaw the restaurant from from having those products in stock?\\nSpeaker 9: That's what I'm from what I'm hearing. I think the goal would be is that we would work with the restaurants to have alternative options. And so, for example, if there was a member of our community with a disability and wanted a straw, I mean, similar to the example that we shared this evening, there are alternatives to plastic that can still serve the same purpose.\\nSpeaker 8: Okay, I guess that would be the better goal. But if I wasn't seeing a difference between someone carrying one in from a store and this does not regulate retail sales once again. So the the juice boxes with the little straw glued on the side will still be in existence, unfortunately. And the other thing for Manager Makoni and I think we have a dual purpose goal here and that is number one, to remove it from the litter and also you'd prefer remove from your waste stream or what you have to deal with when you pick up. Recycle bins or trash bins?\\nSpeaker 9: Absolutely. As you may be aware, the recycling markets, the commodity, passive commodities do not have any value anymore. And in fact, over the years, whereas contract cities would that would get revenue from their service providers over the years for their commodities, things have turned upside down and cities are now paying to get rid of what used to be a recyclable commodity. So we are actually investigating changes in our own curbside programs to address that issue.\\nSpeaker 8: Okay. And then one last issue. I think I saw either a Facebook posting or Twitter that you're recommending reusable. Trick or treat bags. Did I read that? Okay. You're nodding yes. Okay. Great minds think alike. Here's a go forth trick or treat bag. So call our office if you'd like.\\nSpeaker 0: Thank you, Councilman Mongo.\\nSpeaker 2: I heard about that bag actually, today at lunch, I was at a fire meeting up in the region, and I heard about your bags. Since we are on the polystyrene agenda item. Would it be possible to get in a two from four back what the outreach might look like on this? And then also folding in getting rid of the plastic food containers, retail sales. And Styrofoam.\\nSpeaker 9: So Councilmember staff is working on a24 from memo that kind of encapsulate everything that we talked about this evening and provide a little bit more details into our.\\nSpeaker 0: Outreach strategies in the successes.\\nSpeaker 9: That we've had thus far. So that should be coming to the council here shortly. I think it would be more appropriate and this would be a suggestion that when we come back with the amended language in the ordinance, that at that time we would share in some kind of report style as we present that ordinance with different options and different recommendations. And to me, when the council adopted that ordinance, they would expand. If you wanted to include retail limitations at that time, or if you're going to instruct us tonight to put that in, I think we would need to get that direction.\\nSpeaker 2: I'm comfortable with adding that direction tonight that we'd want to go that direction. Councilmember Ortega.\\nSpeaker 7: That a.\\nSpeaker 2: Friendly.\\nSpeaker 7: And the. Yeah. Yeah. That's.\\nSpeaker 2: Except wonderful. Thank.\\nSpeaker 7: It's all to finish up. You're talking about maybe another phased in approach to this ordinance as we as you move forward. Earth Day is April 22nd, 2020, that six months. We could do it by Earth Day. It's a request to see if we can do it.\\nSpeaker 9: We'll certainly do our best.\\nSpeaker 7: I certainly hope you will. Thank you.\\nSpeaker 0: Mr. City. Attorney.\\nSpeaker 9: Yeah, Mayor.\\nSpeaker 10: If I could get some clarification on the friendly that was just made. I'm not sure. Will that be part of phase four?\\nSpeaker 2: Yes.\\nSpeaker 7: And what will it. What are we asking to in at that time to include in the.\\nSpeaker 2: Retail sales of Styrofoam food containers?\\nSpeaker 7: Cups, bowls.\\nSpeaker 10: Utensils all stir. All Styrofoam.\\nSpeaker 2: We're going to take the suggestion of public works when they bring back that. But we're looking to head that direction. And hopefully the two from four will include language that we could adopt that night.\\nSpeaker 0: When we have public works that come up with that timeline and how we do it.\\nSpeaker 9: Okay. So it's just I think. Yes, to clarify, we're hearing that we're going to move forward with the ordinance this evening, the amendment to the ordinance that we would come back with a timeline for implementation sometime in January. Right. And at that time, when we bring back the ordinance, we would also make a recommendation for an additional phase that would expand into retail sales for this council to consider. Thank you.\\nSpeaker 2: Thank you.\\nSpeaker 0: Mr. City Attorney. Anything else?\\nSpeaker 7: Just just.\\nSpeaker 10: The one caveat when they come back with that recommendation, if you can either.\\nSpeaker 7: Adopt the ordinance as written or instruct us to add that it'd have to come back for a first reading, or we could do another.\\nSpeaker 8: Amendment. And that's not a problem either way.\\nSpeaker 0: Thank you. There's no public comment. Okay.\\nSpeaker 12: I said thank you for both of these earlier. But what you brought up those little juicy boxes. I'm going to tell you that I've been in the park clean ups and those are a nightmare. I mean, there are 9000 little tiny pieces. And because they're so tiny, everyone throws them on the ground. So I don't know if there's anything you can do about juicy boxes, but if you can try.\\nSpeaker 0: Thank you. I want to make some closing comments. One is I completely commend the city council and the city staff for working on this issue and the council members that have continuously brought this issue up. Some of us were here when a minority of us were trying to get plastic bags banned and we were the worst people ever and anti-business. And we're going to run Long Beach into the ground and to see the city and the way it's moved so quickly from plastic bag bags to to plastics and to straws and to all the other work around polystyrene is really impressive. I wanted to thank now State Senator Lena Gonzalez, who brought forward the initial ban on polystyrene. And I also wanted to thank the person that I think started this conversation. At least she she led it when I was here. And that was then Councilwoman Susan Lowenthal, who was the original introducer of all these things that everyone didn't like initially. And I wanted to say that what's interesting about this item and I want to think, Councilman, your Ranga and Councilman Price, Councilwoman Mongeau and Councilmember Pearce at all signed on to this is these actions have consequences statewide . And when we passed when we passed our plastic bag ban it affected the state's then decision on on plastic bags are polystyrene work has affected the way the state deals with public steering and what we're doing with straws will affect further laws. Statewide, Long Beach has always led on these issues and I'm really proud that this council continues to do that. And so it's very exciting items and really, really most importantly, love the work of our city staff on this. You guys have been so great in going out to the neighborhoods. I've visited some of the businesses with all of you. I've talked to the business owners and I have loved seeing some of my favorite restaurants that used to use polystyrene and having seen them now convert to other products, paper and other products has been really great to see. So thank you very much. Members, please cast your votes.\"\n        ],\n        \"semantic_type\": \"\",\n        \"description\": \"\"\n      }\n    },\n    {\n      \"column\": \"summary\",\n      \"properties\": {\n        \"dtype\": \"string\",\n        \"num_unique_values\": 1400,\n        \"samples\": [\n          \"The key change in the legislation regarding adjustments to wastewater volume charges for water leaks is the **removal of the requirement that leaks must be hidden or underground**.\\n\\nThe justification for this amendment is to address **complaints about unfair billing** received by the Seattle Public Utilities (SPU). The reasoning behind this change is that customers **should not be charged for sewer usage if the leaked water does not enter the sewer system**, regardless of whether the leak was hidden or not. This aims to ensure fairer billing practices by allowing adjustments for various types of leaks that don't contribute to increased wastewater volume.\",\n          \"The key changes being made to the Seattle Youth Commission are:\\n\\n*   **Reduced Membership:** The commission's membership will be reduced from 25 to 15.\\n*   **District Representation:** Representation will shift to ensure each of the seven council districts has at least one member.\\n*   **Extended Term:** The term of service for youth commissioners will change from one year to two years and be synchronized with the academic school year.\\n*   **Expanded Event Sponsorship:** The Youth Commission will have broader authority to sponsor events throughout the year, not limited to just one annual town hall.\\n*   **Co-Chair Appointments:** The commission can appoint two co-chairs instead of just one.\\n*   **Departmental Responsibility Shift:** Responsibility for the commission will move from the Mayor's office to the Department of Neighborhoods.\\n*   **Bylaw Authority:** The commission will have the authority to write its own bylaws and establish governing rules.\\n\\nThe committee's recommendation for the bill is that it **pass**.\",\n          \"The key adjustments recommended in the fiscal year 2019 first departmental and Fund Budget Appropriation Adjustment Report include adjustments for Measure A, Tidelands Fund, and Measure O. The primary reasons for these adjustments are changes in revenue or operating conditions, grant or donation revenues received, and error and technical corrections made during the closeout of the FY19 financial books.\"\n        ],\n        \"semantic_type\": \"\",\n        \"description\": \"\"\n      }\n    }\n  ]\n}"
            }
          },
          "metadata": {},
          "execution_count": 5
        }
      ]
    },
    {
      "cell_type": "code",
      "source": [
        "def add_summerize_query(df):\n",
        "  new_df = df.copy()\n",
        "  new_df.loc[:, \"prompt\"] = \"Summerize the Whole meeting\"\n",
        "  return new_df"
      ],
      "metadata": {
        "id": "f7GiFR45UMH6"
      },
      "execution_count": 6,
      "outputs": []
    },
    {
      "cell_type": "code",
      "source": [
        "splits = {'train': 'train.csv', 'validation': 'val.csv', 'test': 'test.csv'}\n",
        "original_train_df = pd.read_csv(\"hf://datasets/lytang/MeetingBank-transcript/\" + splits[\"train\"])\n",
        "original_train_df.head()"
      ],
      "metadata": {
        "id": "HO_5mXwSWAbh",
        "colab": {
          "base_uri": "https://localhost:8080/",
          "height": 399
        },
        "outputId": "900ea786-653f-4f92-b589-a20175dd890a"
      },
      "execution_count": 7,
      "outputs": [
        {
          "output_type": "stream",
          "name": "stderr",
          "text": [
            "/usr/local/lib/python3.11/dist-packages/huggingface_hub/utils/_auth.py:104: UserWarning: \n",
            "Error while fetching `HF_TOKEN` secret value from your vault: 'Requesting secret HF_TOKEN timed out. Secrets can only be fetched when running from the Colab UI.'.\n",
            "You are not authenticated with the Hugging Face Hub in this notebook.\n",
            "If the error persists, please let us know by opening an issue on GitHub (https://github.com/huggingface/huggingface_hub/issues/new).\n",
            "  warnings.warn(\n"
          ]
        },
        {
          "output_type": "execute_result",
          "data": {
            "text/plain": [
              "                     meeting_id  \\\n",
              "0  LongBeachCC_08092022_22-0922   \n",
              "1  LongBeachCC_08092022_22-0917   \n",
              "2  LongBeachCC_08092022_22-0946   \n",
              "3  LongBeachCC_08092022_22-0932   \n",
              "4  LongBeachCC_08092022_22-0926   \n",
              "\n",
              "                                              source            type  \\\n",
              "0  Speaker 4: Thank you. And can we do the functi...     Agenda Item   \n",
              "1  Speaker 4: We're going to hear all of the pres...  Public Hearing   \n",
              "2  Speaker 4: Thank you very much. We will. We're...       Ordinance   \n",
              "3  Speaker 4: Great. Thank you. And, you know, we...      Resolution   \n",
              "4  Speaker 0: The motion is carried nine zero.\\nS...     Agenda Item   \n",
              "\n",
              "                                           reference         city  \n",
              "0  Recommendation to increase appropriations in t...  LongBeachCC  \n",
              "1  Recommendation to conduct a Budget Hearing to ...  LongBeachCC  \n",
              "2  Recommendation to declare ordinance amending t...  LongBeachCC  \n",
              "3  Recommendation to adopt resolution approving t...  LongBeachCC  \n",
              "4  Recommendation to refer to the Public Health a...  LongBeachCC  "
            ],
            "text/html": [
              "<div>\n",
              "<style scoped>\n",
              "    .dataframe tbody tr th:only-of-type {\n",
              "        vertical-align: middle;\n",
              "    }\n",
              "\n",
              "    .dataframe tbody tr th {\n",
              "        vertical-align: top;\n",
              "    }\n",
              "\n",
              "    .dataframe thead th {\n",
              "        text-align: right;\n",
              "    }\n",
              "</style>\n",
              "<table border=\"1\" class=\"dataframe\">\n",
              "  <thead>\n",
              "    <tr style=\"text-align: right;\">\n",
              "      <th></th>\n",
              "      <th>meeting_id</th>\n",
              "      <th>source</th>\n",
              "      <th>type</th>\n",
              "      <th>reference</th>\n",
              "      <th>city</th>\n",
              "    </tr>\n",
              "  </thead>\n",
              "  <tbody>\n",
              "    <tr>\n",
              "      <th>0</th>\n",
              "      <td>LongBeachCC_08092022_22-0922</td>\n",
              "      <td>Speaker 4: Thank you. And can we do the functi...</td>\n",
              "      <td>Agenda Item</td>\n",
              "      <td>Recommendation to increase appropriations in t...</td>\n",
              "      <td>LongBeachCC</td>\n",
              "    </tr>\n",
              "    <tr>\n",
              "      <th>1</th>\n",
              "      <td>LongBeachCC_08092022_22-0917</td>\n",
              "      <td>Speaker 4: We're going to hear all of the pres...</td>\n",
              "      <td>Public Hearing</td>\n",
              "      <td>Recommendation to conduct a Budget Hearing to ...</td>\n",
              "      <td>LongBeachCC</td>\n",
              "    </tr>\n",
              "    <tr>\n",
              "      <th>2</th>\n",
              "      <td>LongBeachCC_08092022_22-0946</td>\n",
              "      <td>Speaker 4: Thank you very much. We will. We're...</td>\n",
              "      <td>Ordinance</td>\n",
              "      <td>Recommendation to declare ordinance amending t...</td>\n",
              "      <td>LongBeachCC</td>\n",
              "    </tr>\n",
              "    <tr>\n",
              "      <th>3</th>\n",
              "      <td>LongBeachCC_08092022_22-0932</td>\n",
              "      <td>Speaker 4: Great. Thank you. And, you know, we...</td>\n",
              "      <td>Resolution</td>\n",
              "      <td>Recommendation to adopt resolution approving t...</td>\n",
              "      <td>LongBeachCC</td>\n",
              "    </tr>\n",
              "    <tr>\n",
              "      <th>4</th>\n",
              "      <td>LongBeachCC_08092022_22-0926</td>\n",
              "      <td>Speaker 0: The motion is carried nine zero.\\nS...</td>\n",
              "      <td>Agenda Item</td>\n",
              "      <td>Recommendation to refer to the Public Health a...</td>\n",
              "      <td>LongBeachCC</td>\n",
              "    </tr>\n",
              "  </tbody>\n",
              "</table>\n",
              "</div>"
            ],
            "application/vnd.google.colaboratory.intrinsic+json": {
              "type": "dataframe",
              "variable_name": "original_train_df",
              "summary": "{\n  \"name\": \"original_train_df\",\n  \"rows\": 5169,\n  \"fields\": [\n    {\n      \"column\": \"meeting_id\",\n      \"properties\": {\n        \"dtype\": \"string\",\n        \"num_unique_values\": 5169,\n        \"samples\": [\n          \"LongBeachCC_11102015_15-1136\",\n          \"LongBeachCC_02112014_14-0112\",\n          \"LongBeachCC_04182017_17-0124\"\n        ],\n        \"semantic_type\": \"\",\n        \"description\": \"\"\n      }\n    },\n    {\n      \"column\": \"source\",\n      \"properties\": {\n        \"dtype\": \"string\",\n        \"num_unique_values\": 5169,\n        \"samples\": [\n          \"Speaker 4: Next motion is to to declare ordinance, approving an application and requesting the city attorney to prepare the city manager and city manager to execute a development agreement with the Long Beach project owner.\\nSpeaker 13: Excuse me, counsel.\\nSpeaker 4: And I repeat that.\\nSpeaker 7: No, no, that's fine.\\nSpeaker 9: But does your motion on that item include.\\nSpeaker 13: The amendment that Ms.. Bodak mentioned to.\\nSpeaker 9: Exhibit C, the development.\\nSpeaker 7: Agreement that would allow the flexibility of the public works to director to.\\nSpeaker 13: Determine appropriate surfacing of some of the street.\\nSpeaker 1: Areas to.\\nSpeaker 9: Include either slurry.\\nSpeaker 13: Seal or something more extensive.\\nSpeaker 4: Let me strike that and reread that motion. Okay. Okay. Declare ordinance, approving an application and requesting city attorney to prepare and city manager to execute a development agreement with the Long Beach Project Owner, LLC and D Investment Company LLC. Read the first time and lead over to the next regular meeting of the City Council for Final Reading for Motion six at. At the end with the amendment that the specified street repairs be made in the manner approved by the Public Works Director.\\nSpeaker 0: Mr. Bass. Okay. All right. Okay. There's a motion and a second on that. Please cast your votes.\\nSpeaker 1: Motion carries.\\nSpeaker 0: Next item.\",\n          \"Speaker 11: Two excited. The next, I don't believe is 12. Mr. Clarke.\\nSpeaker 6: Yes. Item 12 is a recommendation to approve the fiscal year 2014 first quarter departmental and but departmental and fund budget appropriation adjustments in accordance with existing council policy.\\nSpeaker 11: The motion has been in motion. Second, the Andrews and Johnson.\\nSpeaker 6: Councilmember DeLong Yes, I support the motion. However, want to make a small correction. There is an item on the Collins part that talks about the removing a restroom in its restrooms. So make it plural. So having made the motion, you'll take that friendly amendment, I assume. So we made the motion. You'll take that as a friendly amendment.\\nSpeaker 11: Can you repeat the Family Amendment.\\nSpeaker 6: In the Tidelands area? It says restroom and removal. It's restrooms, plural. It's two not one dollars.\\nSpeaker 11: Don't change tip that's been accepted as friendly amendment. Thank you. Any public comment? So please cast your votes.\\nSpeaker 6: Councilmember Austin, please. Councilmember O'Donnell. Thank you. Motion carries nine votes. Yes. Next item to report from Human Resources with the recommendation to execute a contract with the state of California. To receive $226,150 for Workforce of Workforce Investment Act funds to operate a health care training program.\",\n          \"Speaker 1: Kate. Motion carries unanimously. Thank you. Moving on to the next item. We're actually we had one other request we're going to do item 14. So.\\nSpeaker 2: Item 14 is a report from Parks Recreation Submarine recommendation to receive and file information regarding restorations of the senior meal program at Cesar Chavez and Cerrado, Silverado Parks District one and seven.\\nSpeaker 1: Okay, Councilman Gonzales.\\nSpeaker 9: Yes, I'd like to see if there's a staff report. But while we're waiting for our staff member to get here, I just would like to first thank our senior advisory commission. And I know members of the Gray Panthers that are here as well that have expressed a lot of interest in bringing back the senior food program, both at Chavez and Silverado. I'm glad to hear that it is positively heading in that direction and it could be maybe staffed up very soon. So we'll hear more information very shortly as Marie comes down. And then I'll just sit here and talk and talk until she can come down. That's okay. But I also want to say thank you to Marie as well. She and I chatted. I know that she has worked with a senior advisory commission and I really appreciate your work as well. And here she is. Thank you, Marie.\\nSpeaker 8: Good evening.\\nSpeaker 6: My apologies. You know, trying to do a little business in the back.\\nSpeaker 9: That's all right.\\nSpeaker 6: Thank you. Good evening, Mayor. Members of the City Council. On February 21st, the staff was asked to report back to the city. At that time, the city council and outlining costs related to restoring the meal program at the current state and the current state of the transportation services provided by Long Beach Transit to the two sites at Cesar Chavez and Silverado Park. At that time, the council requested that staff look at other options to fund these two sites and solutions for transportation issues. So this is our status report and an update. In the past few months, staff has researched options for providing senior meals at these two sites. First, reaching back out to HSA to see if they were in a better financial position to return services to these two sites. And unfortunately, their funding has not increased. And as reported previously, the total cost to restore meals at both of these sites by using the HSA program would be over $100,000. Staff then reached out to organizations that may be in the area already providing meals and to through other programs, and contacted multiple community organizations including Empowered for Life, Food Finders, Workforce Development, Aging and Community Services in LA and Women in Action reaching out to ascertain if any of these organizations had either the capacity to add additional sites or if they knew other programs that could be in existence. After multiple conversations, we're excited to report that Women in Action Reaching Out. A local nonprofit organization has offered to provide meals to our seniors at Cesar Chavez and Silverado Parks. The meals will be served Monday through Friday, beginning on Monday, April 24th, from 12 p.m. to 1 p.m.. They will be served either hot or cold and come prepackaged to meet the USDA serving sizes and the organization will be requesting a suggested donation of $1 per meal. Although this will not be mandatory. Women in action. Reaching out has been serving various communities in Long Beach since 2012. They provide meals and snacks to seniors, teens and youth residing in the Carmelite housing area on a year round basis. In addition, they provide afterschool meals at a park in Compton. Meals are also provided to seniors who participate in activities at the Long Beach Expo Center, located in Bixby Knolls. Ms.. Mrs. King, the CEO of Women in Action, reaching out is a very passionate person about her services to the community and is dedicated to providing the best services ever and is very excited about serving our seniors at these two sites. Staff is currently working with the organization on the proper insurance, health permits and agreements, and we are excited to be starting that program next week. We will also continue to research and identify additional locations in these areas that may be providing senior meals, such as local churches and other services and other agencies in case there are other options available for our residents. Finally, we are also in conversation with Meals on Wheels Long Beach to explore the opportunity of enhancing the Meals program at these two sites. To also include meals to homebound seniors. With respect to transportation. In August of 2012, the Long Beach Transit discontinued their passport services to Chavez Park. It was replaced with Route 151, where standard fares apply. The passport service was, as you are aware, a free service. There were no major changes to Route 191 at the time, which stops in front of Silverado Park. The discontinuation of the passport service and the discontinuation of the two meal sites were within months of each other and likely one did not affect the other. Both agencies cited the discontinuation of service because of low participation. I have been in contact with Ken MacDonnell, the CEO of Long Beach Transit, and Mr. McDonald explained that the majority of the three passport services were discontinued several years ago, mainly due to the fact that a lot of their subsidy is based on the number of paid ridership. So the more free ridership.\\nSpeaker 10: That they offered, they.\\nSpeaker 6: Then would be hurt with reduced subsidy. So they only left one free passport service in place. That said, Mr. McDonald understands the issues and wants to be a part of the solution and he will be working with his team and ours to identify opportunities for discounted passes for our seniors to get to these locations, or possibly working together to locate community partners who are interested in funding free passes for our seniors. We hope to have some movement on this issue within the next month and be able to come back to the council to report on that. In addition, on March 23rd, 2017, Long Beach Transit also hosted a community meeting to discuss their systemwide transit analysis and reassessment initiative, which will take an in-depth look into Long Beach Transit's current transit operations, such as one time performance ridership, route efficiency, staffing, etc.. It will also set priorities that will carry Long Beach transit into the future. Two of our senior advisory commissioners in their roles as advocates for our seniors, attended the meeting and presented a proposal for the reinstatement of the passport program on a route to include Cesar Chavez Park. In addition, we have been researching other alternative transportation options for our seniors to utilize to get to these two sites. One option we found could be the immediate needs transportation program operated by L.A. Metro. Through this program, there is a possibility of receiving free bus tokens and passes and taxi vouchers to provide to our seniors who are participating in the Meals program. We have been informed that there is currently a waiting list for this program and we are submitting the necessary paperwork to be on that waiting list. We have also been working with the HSA regarding their Rider Relief Transportation Program, which also provides senior access to reduced cost monthly bus fares. A representative from this program will be visiting both meal sites next week to provide information to the seniors on how they can enroll in the program and receive coupons and vouchers for the discounts. Again, we will continue to look at the opportunities for transportation as we move forward, but we are very pleased that we will be able to reinstate the meals program at these two sites starting next week. That is the end of my report.\\nSpeaker 9: Well, that was great. Thank you so much, Marie. I appreciate it. This was a very in-depth report. I'm glad. I'm very happy. That will be bringing back the meal program to both of these locations. Cesar Chavez Park. Jan Peyser, Community Center as well as Silverado. And I look forward to certainly passing this item here now, but also looking forward to seeing the report come back in a month. That will include additional information about transportation. And I know our senior advisory commission is here. I know they'll continue to work and bring better ideas and more ideas to that discussion. I know a few things that have been mentioned so far that I would just like for us to take into consideration. But I myself am also in communication with Ken McDonald. I've been in talks with you as well. I'm glad we're all on the same page here. In addition to looking at alternative transportation options, bringing back some routes, looking for either free bus passes or some discounted bus passes, I would also like us to kind of open up the question to Long Beach Transit as it really depends on them. You know, they have their own board, their own director, but really looking at also ways that we can add more more stops near build senior buildings. I think that some have been changed, have been moved around, and I think that just creates an additional barrier for them to get to and fro different areas. So I think that's just something for us to look at and then just creating more access in general for that. So again, thank you so very much. Thank you to everyone who's here and I look forward to hearing more.\\nSpeaker 1: Thank you. Council member gearing up.\\nSpeaker 5: Thank you, Mayor. Well, I commend the staff and in their research on getting the program back on line. I think that we still have a responsibility to our seniors that this program should be institutionalized within the city and not have to rely on philanthropic workers, organizations and their generosity to help us keep this program going. So I hope that in the future discussions, we can look at other ways to institutionalize it. So we're not having to go out and reach into the philanthropic community to sustain programs that we should be responsible for here. I also want to commend staff for their efforts in transportation. It's out of our control. However, I think that we need to also work with our partners in transportation, such as Long Beach Transit, to make transportation more affordable and more accommodating to our seniors so that they can get from point A to point B without having having it be a major effort and an all day endeavor for them to get to where they need to be. So I'm looking forward to next month's report. Hopefully it can be a very good one. But again, I want to see the city move forward with institutionalizing the food program for seniors. Thank you very much.\\nSpeaker 1: Thank you, Councilmember Pearce.\\nSpeaker 10: Yes, I just want I really think Marie Knight for a thorough report and for my colleagues for pushing the conversation forward. We know that our senior population is a growing population and we have a senior center in my district and it's a great place to visit and it is a place where we do have access to a lot of different meal programs there. And so making sure that this is something that other districts in areas have is really important to me. And I really appreciate you circling back with public transit. I know it's one of the things that we're trying to work on as well. And so I support everything that you guys are doing and I would continue to support trying to institutionalize, you know, ensure that these programs are reoccurring with some city support. And also just really a big thank you to the nonprofits and the community groups out there that step up to do this work because you're not required to do that. So thank you so much.\\nSpeaker 1: Thank you, Councilman Austin.\\nSpeaker 7: Thank you. And I also like to just agree with my colleagues. I want to thank Marie Knight and Parks and Recreation and Marine Four for their work and their efforts to improve services, in address services for our seniors all across the city, and particularly in the areas of senior meals and transit access. It was it was mentioned that by Councilmember Gonzalez that she'd like to see more access points. I think there is opportunity, particularly in terms of engaging, engaging Long Beach transit. They do have no more resources now as a result of Measure M and and SB one. And so we should, should encourage them to increase, improves transit services and use those resources to improve transit services to our seniors. I also want to commend women in action reaching out. I know I made the recommendation that when this issue came before us, that we look at that organization, organization as doing some amazing work out of the Carmen Leto's community. If you go there on a daily basis, you can see a team of volunteers, women in action, reaching out, preparing hundreds of meals and feeding hundreds of seniors in North Long Beach and now in Compton. I believe now they'll be volunteering their services for seniors on the West Side into two park locations, which I think is awesome. And it shows the capacity and amazing potential to integrate our senior communities throughout the city of Long Beach. And so but I will agree with our Councilmember Urunga, in terms of the sustainability, I'd like to see that program be sustainable in an organization like Women in actually reaching out. I think, you know, there should be a codified agreement in a contract at some point in the future to to make sure that those services are are sustainable and that there are the seniors cannot can depend on them moving forward in terms of their quality of life. And yeah, I'm just proud that that that we're having an impact and able to to touch the lives of hundreds of more seniors throughout the city. And so good luck and look forward to it coming back. I'll support this.\\nSpeaker 1: Okay. Thank you. There's a motion and a second, I think, with a public comment. Stepped away with that. Did we do public comment? No. Let's look. Set the way. I wasn't sure if that happened when I stepped away. So public comment, please come forward if you have public comment. I get a lot of time from guys tonight. I apologize if you get tired of hearing from me about anyway. Bill again from Council District three. Maureen, I want to thank you for bringing this attention for the meals program to these very important parks. There are some programs in Los Angeles County where the increase has needed and the demand has increased. In fact, there's now a waiting lists for some food programs in Los Angeles County. We don't want to hear this kind of thing. However, regarding transportation, I would like to see a collaboration between the City Hall, Language Transit and Uber and Lyft. Uber just released their financials. Last year, they had $6.5 billion in profits. I think they could afford a little reinvestment in our community, which they're participating in. And also, I'd like to say that last week at Cal State, Long Beach, I believe, Marie, you were there for the aging and reimagining aging. Unfortunately, I was unable to attend that event. I was in Los Angeles attending the first annual ever AARP first annual elder summit. Got a lot of great information. Metro was there. They're asking for our feedback. So I'd like to see and I know Mayor Garcia is on the Metro board now. So I'd like to see some kind of collaboration, if we can. Something that we can do there as well. We are more than glad to send to you via email to your office the presentation that was performed by Metro there on their long ago program for transportation. There was a lot of great knowledge there for seniors, so definitely I'd like to support this item. Marie, thank you for your support and I'll definitely be contacting you on other items on seniors. Thank you.\\nSpeaker 8: Good evening.\\nSpeaker 6: I'm Mary Alice. You? I'm the chairperson for the Senior Citizens Advisory Commission, and we have been working on this.\\nSpeaker 8: Project for Meals.\\nSpeaker 6: For.\\nSpeaker 8: Seniors for one year. Exactly. So we have been very patient in waiting.\\nSpeaker 6: It's taken a lot of organization and a lot of meetings.\\nSpeaker 8: And so we are now finally coming to fruition.\\nSpeaker 6: And I want to thank Marie and her staff for all the work that they did. And I also want to thank Lena Gonzalez for her patience and waiting. And so I'm happy to see that we're going to be able to have some nutrition for our seniors and hopefully.\\nSpeaker 8: We can get Ken McDonald, the CEO.\\nSpeaker 6: From Long Beach Transit, to hear our message in our voice and and do the proper things so that we can bring our seniors there. Thank you very much.\\nSpeaker 8: Karen Reseda, resident of the first district and secretary for the Long Beach Gray Panthers. And thank you, Mary, for all your work in getting this program back. I am. These lunch programs are absolutely critical for low income senior population. A lot of them depend on these programs. It's often their only hot meal of the day. I know when I find myself going to many meetings, that's the only hot meal I get. I participate in the lunch program over at the Fourth Street Senior Center, and there's regularly over 100 people and usually 10 to 15 people that come in, get on the waitlist, and oftentimes they don't get served because there's not enough food, because the demand is so large. But even more critical in the food and the transportation is the socialization opportunities for many seniors. The senior center is the hub of their socialization experience. So thank you all for supporting this and thank you your anger, Mr. Erakat, for suggesting that it be institutionalized. It really does need to be used for the well-being of our seniors and our community and keeping them healthy and aging in homes and reducing our health care costs . I want to hitch a ride on her last statement. She said. The seniors are in homes.\\nSpeaker 0: However.\\nSpeaker 8: As your homeless count will bear when the record is finally posted on your website. It's taken in January, but it's not up yet. The homeless count. That a passenger, a large percentage of those people are homeless. So you have seniors who not only are not part of your social structure because they are homeless, many of them are scraping on their food stamp card, the general relief card. And they're not getting to those meals. In thing, seniors said service centers that you're now going to restore and because they're considered public outcry casts. Some of them might have to show up dirty. And because they know that if they showed up dirty, that they wouldn't be socially accepted. They're not going to make it. So as we're seeking to restore your meals. I want to remind us of a man who died on the side of the Bank of America building in District four. He was taken off the street a month before he died. But he sat there morning after morning. Some people would bring him food. But I wonder what would would have happened if he had been invited into the singer's center. Someone would have noticed, oh, he's homeless. So he instead of being taken off the street one month before he died, if he had been invited into the senior center for Meals, he might have been off the street earlier than one month before he died. We think, in terms of seniors who are in housing. But many of you seniors who are homeless, seniors who are homeless will not see even these meals. Now. I'm 56. We're all going to be singers one day. If some of us already are. In front of me and behind me. What is it going to take? To get the same news that you counted in January who are homeless. Into those centers where these meals are. What is it going to take us to do this? And when you go to sleep tonight, I hope that's on your mind. What? What can I do personally?\\nSpeaker 0: Thank you, Mr. President. Would you like to speak on?\\nSpeaker 4: Those of you who know me know that I rarely speak after public comment. I don't think it's right that we have the last word. But these comments tonight were so egregious that I have to respond. So I'm references a particular individual in the fourth District, Richard, was a success story. We got him off the street and into housing. So I just want to set the record straight there. Ask anyone in our health department. They'll tell you that this was a miracle, what we did. Also, just to set the record straight on the homeless count, I watched it for many, many years. I don't ever remember it being out before late April. So there's nothing new about that. Thank you.\\nSpeaker 0: Thank you. This is Councilman Gonzalez.\\nSpeaker 9: Yes. I just wanted to add one last thing, is that I think in when we brought this item forward some time ago, this was really done in honor of Ruth Ricker in terms of bringing the meal program back. And I know the senior advisory commission knows that, and I know that we're looking to possibly rename this after her. She was a fantastic person that really believed in bringing that back also for the socialization issue. But this will be a great memory for her. Thank you.\\nSpeaker 5: Thank you very much. I see no more. We have no one more individual than the diocese. Okay, fine. We'll do a voice count. Please cast your vote. I. I. I.\\nSpeaker 4: I. I. I. I.\\nSpeaker 2: Motion carries.\\nSpeaker 0: No, I'm fine. Thank you. Notamment. Yes.\"\n        ],\n        \"semantic_type\": \"\",\n        \"description\": \"\"\n      }\n    },\n    {\n      \"column\": \"type\",\n      \"properties\": {\n        \"dtype\": \"category\",\n        \"num_unique_values\": 45,\n        \"samples\": [\n          \"Loan Order\",\n          \"Joint Agenda Item\",\n          \"Joint Consent Item\"\n        ],\n        \"semantic_type\": \"\",\n        \"description\": \"\"\n      }\n    },\n    {\n      \"column\": \"reference\",\n      \"properties\": {\n        \"dtype\": \"string\",\n        \"num_unique_values\": 4743,\n        \"samples\": [\n          \"AN ORDINANCE relating to gig workers in Seattle; establishing labor standards requirements for paid sick and paid safe time for gig workers working in Seattle; and amending Sections 100.015 and 100.080 of Ordinance 126091 to make technical corrections.\",\n          \"A bill for an ordinance changing the zoning classification for numerous properties located generally within the 38th and Blake Station Area.\\r\\nApproves an official legislative map amendment to apply the River North Design Overlay (DO-7) and 38th and Blake Incentive Height Overlay (IO-1) to existing underlying C-MX- and I-MX- zone districts and overlays on properties generally located within the River North Business Improvement District or within the boundary of the Future Maximum Building Heights Map in the 38th and Blake Station Area Plan Amendments in Council District 9. If ordered published, a public hearing will be held on Monday, 2-12-18. The Committee approved filing this bill at its meeting on 1-2-18.\",\n          \"A RESOLUTION retiring introduced and referred Council Bills, Resolutions, and Clerk Files which have received no further action.\"\n        ],\n        \"semantic_type\": \"\",\n        \"description\": \"\"\n      }\n    },\n    {\n      \"column\": \"city\",\n      \"properties\": {\n        \"dtype\": \"category\",\n        \"num_unique_values\": 6,\n        \"samples\": [\n          \"LongBeachCC\",\n          \"SeattleCityCouncil\",\n          \"BostonCC\"\n        ],\n        \"semantic_type\": \"\",\n        \"description\": \"\"\n      }\n    }\n  ]\n}"
            }
          },
          "metadata": {},
          "execution_count": 7
        }
      ]
    },
    {
      "cell_type": "code",
      "source": [
        "queried_original_df = add_summerize_query(original_train_df)\n",
        "queried_original_df.head()"
      ],
      "metadata": {
        "id": "crm2-MvmVMip",
        "colab": {
          "base_uri": "https://localhost:8080/",
          "height": 293
        },
        "outputId": "443995e1-ce17-4d66-c679-868a82cf89c1"
      },
      "execution_count": 8,
      "outputs": [
        {
          "output_type": "execute_result",
          "data": {
            "text/plain": [
              "                     meeting_id  \\\n",
              "0  LongBeachCC_08092022_22-0922   \n",
              "1  LongBeachCC_08092022_22-0917   \n",
              "2  LongBeachCC_08092022_22-0946   \n",
              "3  LongBeachCC_08092022_22-0932   \n",
              "4  LongBeachCC_08092022_22-0926   \n",
              "\n",
              "                                              source            type  \\\n",
              "0  Speaker 4: Thank you. And can we do the functi...     Agenda Item   \n",
              "1  Speaker 4: We're going to hear all of the pres...  Public Hearing   \n",
              "2  Speaker 4: Thank you very much. We will. We're...       Ordinance   \n",
              "3  Speaker 4: Great. Thank you. And, you know, we...      Resolution   \n",
              "4  Speaker 0: The motion is carried nine zero.\\nS...     Agenda Item   \n",
              "\n",
              "                                           reference         city  \\\n",
              "0  Recommendation to increase appropriations in t...  LongBeachCC   \n",
              "1  Recommendation to conduct a Budget Hearing to ...  LongBeachCC   \n",
              "2  Recommendation to declare ordinance amending t...  LongBeachCC   \n",
              "3  Recommendation to adopt resolution approving t...  LongBeachCC   \n",
              "4  Recommendation to refer to the Public Health a...  LongBeachCC   \n",
              "\n",
              "                        prompt  \n",
              "0  Summerize the Whole meeting  \n",
              "1  Summerize the Whole meeting  \n",
              "2  Summerize the Whole meeting  \n",
              "3  Summerize the Whole meeting  \n",
              "4  Summerize the Whole meeting  "
            ],
            "text/html": [
              "<div>\n",
              "<style scoped>\n",
              "    .dataframe tbody tr th:only-of-type {\n",
              "        vertical-align: middle;\n",
              "    }\n",
              "\n",
              "    .dataframe tbody tr th {\n",
              "        vertical-align: top;\n",
              "    }\n",
              "\n",
              "    .dataframe thead th {\n",
              "        text-align: right;\n",
              "    }\n",
              "</style>\n",
              "<table border=\"1\" class=\"dataframe\">\n",
              "  <thead>\n",
              "    <tr style=\"text-align: right;\">\n",
              "      <th></th>\n",
              "      <th>meeting_id</th>\n",
              "      <th>source</th>\n",
              "      <th>type</th>\n",
              "      <th>reference</th>\n",
              "      <th>city</th>\n",
              "      <th>prompt</th>\n",
              "    </tr>\n",
              "  </thead>\n",
              "  <tbody>\n",
              "    <tr>\n",
              "      <th>0</th>\n",
              "      <td>LongBeachCC_08092022_22-0922</td>\n",
              "      <td>Speaker 4: Thank you. And can we do the functi...</td>\n",
              "      <td>Agenda Item</td>\n",
              "      <td>Recommendation to increase appropriations in t...</td>\n",
              "      <td>LongBeachCC</td>\n",
              "      <td>Summerize the Whole meeting</td>\n",
              "    </tr>\n",
              "    <tr>\n",
              "      <th>1</th>\n",
              "      <td>LongBeachCC_08092022_22-0917</td>\n",
              "      <td>Speaker 4: We're going to hear all of the pres...</td>\n",
              "      <td>Public Hearing</td>\n",
              "      <td>Recommendation to conduct a Budget Hearing to ...</td>\n",
              "      <td>LongBeachCC</td>\n",
              "      <td>Summerize the Whole meeting</td>\n",
              "    </tr>\n",
              "    <tr>\n",
              "      <th>2</th>\n",
              "      <td>LongBeachCC_08092022_22-0946</td>\n",
              "      <td>Speaker 4: Thank you very much. We will. We're...</td>\n",
              "      <td>Ordinance</td>\n",
              "      <td>Recommendation to declare ordinance amending t...</td>\n",
              "      <td>LongBeachCC</td>\n",
              "      <td>Summerize the Whole meeting</td>\n",
              "    </tr>\n",
              "    <tr>\n",
              "      <th>3</th>\n",
              "      <td>LongBeachCC_08092022_22-0932</td>\n",
              "      <td>Speaker 4: Great. Thank you. And, you know, we...</td>\n",
              "      <td>Resolution</td>\n",
              "      <td>Recommendation to adopt resolution approving t...</td>\n",
              "      <td>LongBeachCC</td>\n",
              "      <td>Summerize the Whole meeting</td>\n",
              "    </tr>\n",
              "    <tr>\n",
              "      <th>4</th>\n",
              "      <td>LongBeachCC_08092022_22-0926</td>\n",
              "      <td>Speaker 0: The motion is carried nine zero.\\nS...</td>\n",
              "      <td>Agenda Item</td>\n",
              "      <td>Recommendation to refer to the Public Health a...</td>\n",
              "      <td>LongBeachCC</td>\n",
              "      <td>Summerize the Whole meeting</td>\n",
              "    </tr>\n",
              "  </tbody>\n",
              "</table>\n",
              "</div>"
            ],
            "application/vnd.google.colaboratory.intrinsic+json": {
              "type": "dataframe",
              "variable_name": "queried_original_df",
              "summary": "{\n  \"name\": \"queried_original_df\",\n  \"rows\": 5169,\n  \"fields\": [\n    {\n      \"column\": \"meeting_id\",\n      \"properties\": {\n        \"dtype\": \"string\",\n        \"num_unique_values\": 5169,\n        \"samples\": [\n          \"LongBeachCC_11102015_15-1136\",\n          \"LongBeachCC_02112014_14-0112\",\n          \"LongBeachCC_04182017_17-0124\"\n        ],\n        \"semantic_type\": \"\",\n        \"description\": \"\"\n      }\n    },\n    {\n      \"column\": \"source\",\n      \"properties\": {\n        \"dtype\": \"string\",\n        \"num_unique_values\": 5169,\n        \"samples\": [\n          \"Speaker 4: Next motion is to to declare ordinance, approving an application and requesting the city attorney to prepare the city manager and city manager to execute a development agreement with the Long Beach project owner.\\nSpeaker 13: Excuse me, counsel.\\nSpeaker 4: And I repeat that.\\nSpeaker 7: No, no, that's fine.\\nSpeaker 9: But does your motion on that item include.\\nSpeaker 13: The amendment that Ms.. Bodak mentioned to.\\nSpeaker 9: Exhibit C, the development.\\nSpeaker 7: Agreement that would allow the flexibility of the public works to director to.\\nSpeaker 13: Determine appropriate surfacing of some of the street.\\nSpeaker 1: Areas to.\\nSpeaker 9: Include either slurry.\\nSpeaker 13: Seal or something more extensive.\\nSpeaker 4: Let me strike that and reread that motion. Okay. Okay. Declare ordinance, approving an application and requesting city attorney to prepare and city manager to execute a development agreement with the Long Beach Project Owner, LLC and D Investment Company LLC. Read the first time and lead over to the next regular meeting of the City Council for Final Reading for Motion six at. At the end with the amendment that the specified street repairs be made in the manner approved by the Public Works Director.\\nSpeaker 0: Mr. Bass. Okay. All right. Okay. There's a motion and a second on that. Please cast your votes.\\nSpeaker 1: Motion carries.\\nSpeaker 0: Next item.\",\n          \"Speaker 11: Two excited. The next, I don't believe is 12. Mr. Clarke.\\nSpeaker 6: Yes. Item 12 is a recommendation to approve the fiscal year 2014 first quarter departmental and but departmental and fund budget appropriation adjustments in accordance with existing council policy.\\nSpeaker 11: The motion has been in motion. Second, the Andrews and Johnson.\\nSpeaker 6: Councilmember DeLong Yes, I support the motion. However, want to make a small correction. There is an item on the Collins part that talks about the removing a restroom in its restrooms. So make it plural. So having made the motion, you'll take that friendly amendment, I assume. So we made the motion. You'll take that as a friendly amendment.\\nSpeaker 11: Can you repeat the Family Amendment.\\nSpeaker 6: In the Tidelands area? It says restroom and removal. It's restrooms, plural. It's two not one dollars.\\nSpeaker 11: Don't change tip that's been accepted as friendly amendment. Thank you. Any public comment? So please cast your votes.\\nSpeaker 6: Councilmember Austin, please. Councilmember O'Donnell. Thank you. Motion carries nine votes. Yes. Next item to report from Human Resources with the recommendation to execute a contract with the state of California. To receive $226,150 for Workforce of Workforce Investment Act funds to operate a health care training program.\",\n          \"Speaker 1: Kate. Motion carries unanimously. Thank you. Moving on to the next item. We're actually we had one other request we're going to do item 14. So.\\nSpeaker 2: Item 14 is a report from Parks Recreation Submarine recommendation to receive and file information regarding restorations of the senior meal program at Cesar Chavez and Cerrado, Silverado Parks District one and seven.\\nSpeaker 1: Okay, Councilman Gonzales.\\nSpeaker 9: Yes, I'd like to see if there's a staff report. But while we're waiting for our staff member to get here, I just would like to first thank our senior advisory commission. And I know members of the Gray Panthers that are here as well that have expressed a lot of interest in bringing back the senior food program, both at Chavez and Silverado. I'm glad to hear that it is positively heading in that direction and it could be maybe staffed up very soon. So we'll hear more information very shortly as Marie comes down. And then I'll just sit here and talk and talk until she can come down. That's okay. But I also want to say thank you to Marie as well. She and I chatted. I know that she has worked with a senior advisory commission and I really appreciate your work as well. And here she is. Thank you, Marie.\\nSpeaker 8: Good evening.\\nSpeaker 6: My apologies. You know, trying to do a little business in the back.\\nSpeaker 9: That's all right.\\nSpeaker 6: Thank you. Good evening, Mayor. Members of the City Council. On February 21st, the staff was asked to report back to the city. At that time, the city council and outlining costs related to restoring the meal program at the current state and the current state of the transportation services provided by Long Beach Transit to the two sites at Cesar Chavez and Silverado Park. At that time, the council requested that staff look at other options to fund these two sites and solutions for transportation issues. So this is our status report and an update. In the past few months, staff has researched options for providing senior meals at these two sites. First, reaching back out to HSA to see if they were in a better financial position to return services to these two sites. And unfortunately, their funding has not increased. And as reported previously, the total cost to restore meals at both of these sites by using the HSA program would be over $100,000. Staff then reached out to organizations that may be in the area already providing meals and to through other programs, and contacted multiple community organizations including Empowered for Life, Food Finders, Workforce Development, Aging and Community Services in LA and Women in Action reaching out to ascertain if any of these organizations had either the capacity to add additional sites or if they knew other programs that could be in existence. After multiple conversations, we're excited to report that Women in Action Reaching Out. A local nonprofit organization has offered to provide meals to our seniors at Cesar Chavez and Silverado Parks. The meals will be served Monday through Friday, beginning on Monday, April 24th, from 12 p.m. to 1 p.m.. They will be served either hot or cold and come prepackaged to meet the USDA serving sizes and the organization will be requesting a suggested donation of $1 per meal. Although this will not be mandatory. Women in action. Reaching out has been serving various communities in Long Beach since 2012. They provide meals and snacks to seniors, teens and youth residing in the Carmelite housing area on a year round basis. In addition, they provide afterschool meals at a park in Compton. Meals are also provided to seniors who participate in activities at the Long Beach Expo Center, located in Bixby Knolls. Ms.. Mrs. King, the CEO of Women in Action, reaching out is a very passionate person about her services to the community and is dedicated to providing the best services ever and is very excited about serving our seniors at these two sites. Staff is currently working with the organization on the proper insurance, health permits and agreements, and we are excited to be starting that program next week. We will also continue to research and identify additional locations in these areas that may be providing senior meals, such as local churches and other services and other agencies in case there are other options available for our residents. Finally, we are also in conversation with Meals on Wheels Long Beach to explore the opportunity of enhancing the Meals program at these two sites. To also include meals to homebound seniors. With respect to transportation. In August of 2012, the Long Beach Transit discontinued their passport services to Chavez Park. It was replaced with Route 151, where standard fares apply. The passport service was, as you are aware, a free service. There were no major changes to Route 191 at the time, which stops in front of Silverado Park. The discontinuation of the passport service and the discontinuation of the two meal sites were within months of each other and likely one did not affect the other. Both agencies cited the discontinuation of service because of low participation. I have been in contact with Ken MacDonnell, the CEO of Long Beach Transit, and Mr. McDonald explained that the majority of the three passport services were discontinued several years ago, mainly due to the fact that a lot of their subsidy is based on the number of paid ridership. So the more free ridership.\\nSpeaker 10: That they offered, they.\\nSpeaker 6: Then would be hurt with reduced subsidy. So they only left one free passport service in place. That said, Mr. McDonald understands the issues and wants to be a part of the solution and he will be working with his team and ours to identify opportunities for discounted passes for our seniors to get to these locations, or possibly working together to locate community partners who are interested in funding free passes for our seniors. We hope to have some movement on this issue within the next month and be able to come back to the council to report on that. In addition, on March 23rd, 2017, Long Beach Transit also hosted a community meeting to discuss their systemwide transit analysis and reassessment initiative, which will take an in-depth look into Long Beach Transit's current transit operations, such as one time performance ridership, route efficiency, staffing, etc.. It will also set priorities that will carry Long Beach transit into the future. Two of our senior advisory commissioners in their roles as advocates for our seniors, attended the meeting and presented a proposal for the reinstatement of the passport program on a route to include Cesar Chavez Park. In addition, we have been researching other alternative transportation options for our seniors to utilize to get to these two sites. One option we found could be the immediate needs transportation program operated by L.A. Metro. Through this program, there is a possibility of receiving free bus tokens and passes and taxi vouchers to provide to our seniors who are participating in the Meals program. We have been informed that there is currently a waiting list for this program and we are submitting the necessary paperwork to be on that waiting list. We have also been working with the HSA regarding their Rider Relief Transportation Program, which also provides senior access to reduced cost monthly bus fares. A representative from this program will be visiting both meal sites next week to provide information to the seniors on how they can enroll in the program and receive coupons and vouchers for the discounts. Again, we will continue to look at the opportunities for transportation as we move forward, but we are very pleased that we will be able to reinstate the meals program at these two sites starting next week. That is the end of my report.\\nSpeaker 9: Well, that was great. Thank you so much, Marie. I appreciate it. This was a very in-depth report. I'm glad. I'm very happy. That will be bringing back the meal program to both of these locations. Cesar Chavez Park. Jan Peyser, Community Center as well as Silverado. And I look forward to certainly passing this item here now, but also looking forward to seeing the report come back in a month. That will include additional information about transportation. And I know our senior advisory commission is here. I know they'll continue to work and bring better ideas and more ideas to that discussion. I know a few things that have been mentioned so far that I would just like for us to take into consideration. But I myself am also in communication with Ken McDonald. I've been in talks with you as well. I'm glad we're all on the same page here. In addition to looking at alternative transportation options, bringing back some routes, looking for either free bus passes or some discounted bus passes, I would also like us to kind of open up the question to Long Beach Transit as it really depends on them. You know, they have their own board, their own director, but really looking at also ways that we can add more more stops near build senior buildings. I think that some have been changed, have been moved around, and I think that just creates an additional barrier for them to get to and fro different areas. So I think that's just something for us to look at and then just creating more access in general for that. So again, thank you so very much. Thank you to everyone who's here and I look forward to hearing more.\\nSpeaker 1: Thank you. Council member gearing up.\\nSpeaker 5: Thank you, Mayor. Well, I commend the staff and in their research on getting the program back on line. I think that we still have a responsibility to our seniors that this program should be institutionalized within the city and not have to rely on philanthropic workers, organizations and their generosity to help us keep this program going. So I hope that in the future discussions, we can look at other ways to institutionalize it. So we're not having to go out and reach into the philanthropic community to sustain programs that we should be responsible for here. I also want to commend staff for their efforts in transportation. It's out of our control. However, I think that we need to also work with our partners in transportation, such as Long Beach Transit, to make transportation more affordable and more accommodating to our seniors so that they can get from point A to point B without having having it be a major effort and an all day endeavor for them to get to where they need to be. So I'm looking forward to next month's report. Hopefully it can be a very good one. But again, I want to see the city move forward with institutionalizing the food program for seniors. Thank you very much.\\nSpeaker 1: Thank you, Councilmember Pearce.\\nSpeaker 10: Yes, I just want I really think Marie Knight for a thorough report and for my colleagues for pushing the conversation forward. We know that our senior population is a growing population and we have a senior center in my district and it's a great place to visit and it is a place where we do have access to a lot of different meal programs there. And so making sure that this is something that other districts in areas have is really important to me. And I really appreciate you circling back with public transit. I know it's one of the things that we're trying to work on as well. And so I support everything that you guys are doing and I would continue to support trying to institutionalize, you know, ensure that these programs are reoccurring with some city support. And also just really a big thank you to the nonprofits and the community groups out there that step up to do this work because you're not required to do that. So thank you so much.\\nSpeaker 1: Thank you, Councilman Austin.\\nSpeaker 7: Thank you. And I also like to just agree with my colleagues. I want to thank Marie Knight and Parks and Recreation and Marine Four for their work and their efforts to improve services, in address services for our seniors all across the city, and particularly in the areas of senior meals and transit access. It was it was mentioned that by Councilmember Gonzalez that she'd like to see more access points. I think there is opportunity, particularly in terms of engaging, engaging Long Beach transit. They do have no more resources now as a result of Measure M and and SB one. And so we should, should encourage them to increase, improves transit services and use those resources to improve transit services to our seniors. I also want to commend women in action reaching out. I know I made the recommendation that when this issue came before us, that we look at that organization, organization as doing some amazing work out of the Carmen Leto's community. If you go there on a daily basis, you can see a team of volunteers, women in action, reaching out, preparing hundreds of meals and feeding hundreds of seniors in North Long Beach and now in Compton. I believe now they'll be volunteering their services for seniors on the West Side into two park locations, which I think is awesome. And it shows the capacity and amazing potential to integrate our senior communities throughout the city of Long Beach. And so but I will agree with our Councilmember Urunga, in terms of the sustainability, I'd like to see that program be sustainable in an organization like Women in actually reaching out. I think, you know, there should be a codified agreement in a contract at some point in the future to to make sure that those services are are sustainable and that there are the seniors cannot can depend on them moving forward in terms of their quality of life. And yeah, I'm just proud that that that we're having an impact and able to to touch the lives of hundreds of more seniors throughout the city. And so good luck and look forward to it coming back. I'll support this.\\nSpeaker 1: Okay. Thank you. There's a motion and a second, I think, with a public comment. Stepped away with that. Did we do public comment? No. Let's look. Set the way. I wasn't sure if that happened when I stepped away. So public comment, please come forward if you have public comment. I get a lot of time from guys tonight. I apologize if you get tired of hearing from me about anyway. Bill again from Council District three. Maureen, I want to thank you for bringing this attention for the meals program to these very important parks. There are some programs in Los Angeles County where the increase has needed and the demand has increased. In fact, there's now a waiting lists for some food programs in Los Angeles County. We don't want to hear this kind of thing. However, regarding transportation, I would like to see a collaboration between the City Hall, Language Transit and Uber and Lyft. Uber just released their financials. Last year, they had $6.5 billion in profits. I think they could afford a little reinvestment in our community, which they're participating in. And also, I'd like to say that last week at Cal State, Long Beach, I believe, Marie, you were there for the aging and reimagining aging. Unfortunately, I was unable to attend that event. I was in Los Angeles attending the first annual ever AARP first annual elder summit. Got a lot of great information. Metro was there. They're asking for our feedback. So I'd like to see and I know Mayor Garcia is on the Metro board now. So I'd like to see some kind of collaboration, if we can. Something that we can do there as well. We are more than glad to send to you via email to your office the presentation that was performed by Metro there on their long ago program for transportation. There was a lot of great knowledge there for seniors, so definitely I'd like to support this item. Marie, thank you for your support and I'll definitely be contacting you on other items on seniors. Thank you.\\nSpeaker 8: Good evening.\\nSpeaker 6: I'm Mary Alice. You? I'm the chairperson for the Senior Citizens Advisory Commission, and we have been working on this.\\nSpeaker 8: Project for Meals.\\nSpeaker 6: For.\\nSpeaker 8: Seniors for one year. Exactly. So we have been very patient in waiting.\\nSpeaker 6: It's taken a lot of organization and a lot of meetings.\\nSpeaker 8: And so we are now finally coming to fruition.\\nSpeaker 6: And I want to thank Marie and her staff for all the work that they did. And I also want to thank Lena Gonzalez for her patience and waiting. And so I'm happy to see that we're going to be able to have some nutrition for our seniors and hopefully.\\nSpeaker 8: We can get Ken McDonald, the CEO.\\nSpeaker 6: From Long Beach Transit, to hear our message in our voice and and do the proper things so that we can bring our seniors there. Thank you very much.\\nSpeaker 8: Karen Reseda, resident of the first district and secretary for the Long Beach Gray Panthers. And thank you, Mary, for all your work in getting this program back. I am. These lunch programs are absolutely critical for low income senior population. A lot of them depend on these programs. It's often their only hot meal of the day. I know when I find myself going to many meetings, that's the only hot meal I get. I participate in the lunch program over at the Fourth Street Senior Center, and there's regularly over 100 people and usually 10 to 15 people that come in, get on the waitlist, and oftentimes they don't get served because there's not enough food, because the demand is so large. But even more critical in the food and the transportation is the socialization opportunities for many seniors. The senior center is the hub of their socialization experience. So thank you all for supporting this and thank you your anger, Mr. Erakat, for suggesting that it be institutionalized. It really does need to be used for the well-being of our seniors and our community and keeping them healthy and aging in homes and reducing our health care costs . I want to hitch a ride on her last statement. She said. The seniors are in homes.\\nSpeaker 0: However.\\nSpeaker 8: As your homeless count will bear when the record is finally posted on your website. It's taken in January, but it's not up yet. The homeless count. That a passenger, a large percentage of those people are homeless. So you have seniors who not only are not part of your social structure because they are homeless, many of them are scraping on their food stamp card, the general relief card. And they're not getting to those meals. In thing, seniors said service centers that you're now going to restore and because they're considered public outcry casts. Some of them might have to show up dirty. And because they know that if they showed up dirty, that they wouldn't be socially accepted. They're not going to make it. So as we're seeking to restore your meals. I want to remind us of a man who died on the side of the Bank of America building in District four. He was taken off the street a month before he died. But he sat there morning after morning. Some people would bring him food. But I wonder what would would have happened if he had been invited into the singer's center. Someone would have noticed, oh, he's homeless. So he instead of being taken off the street one month before he died, if he had been invited into the senior center for Meals, he might have been off the street earlier than one month before he died. We think, in terms of seniors who are in housing. But many of you seniors who are homeless, seniors who are homeless will not see even these meals. Now. I'm 56. We're all going to be singers one day. If some of us already are. In front of me and behind me. What is it going to take? To get the same news that you counted in January who are homeless. Into those centers where these meals are. What is it going to take us to do this? And when you go to sleep tonight, I hope that's on your mind. What? What can I do personally?\\nSpeaker 0: Thank you, Mr. President. Would you like to speak on?\\nSpeaker 4: Those of you who know me know that I rarely speak after public comment. I don't think it's right that we have the last word. But these comments tonight were so egregious that I have to respond. So I'm references a particular individual in the fourth District, Richard, was a success story. We got him off the street and into housing. So I just want to set the record straight there. Ask anyone in our health department. They'll tell you that this was a miracle, what we did. Also, just to set the record straight on the homeless count, I watched it for many, many years. I don't ever remember it being out before late April. So there's nothing new about that. Thank you.\\nSpeaker 0: Thank you. This is Councilman Gonzalez.\\nSpeaker 9: Yes. I just wanted to add one last thing, is that I think in when we brought this item forward some time ago, this was really done in honor of Ruth Ricker in terms of bringing the meal program back. And I know the senior advisory commission knows that, and I know that we're looking to possibly rename this after her. She was a fantastic person that really believed in bringing that back also for the socialization issue. But this will be a great memory for her. Thank you.\\nSpeaker 5: Thank you very much. I see no more. We have no one more individual than the diocese. Okay, fine. We'll do a voice count. Please cast your vote. I. I. I.\\nSpeaker 4: I. I. I. I.\\nSpeaker 2: Motion carries.\\nSpeaker 0: No, I'm fine. Thank you. Notamment. Yes.\"\n        ],\n        \"semantic_type\": \"\",\n        \"description\": \"\"\n      }\n    },\n    {\n      \"column\": \"type\",\n      \"properties\": {\n        \"dtype\": \"category\",\n        \"num_unique_values\": 45,\n        \"samples\": [\n          \"Loan Order\",\n          \"Joint Agenda Item\",\n          \"Joint Consent Item\"\n        ],\n        \"semantic_type\": \"\",\n        \"description\": \"\"\n      }\n    },\n    {\n      \"column\": \"reference\",\n      \"properties\": {\n        \"dtype\": \"string\",\n        \"num_unique_values\": 4743,\n        \"samples\": [\n          \"AN ORDINANCE relating to gig workers in Seattle; establishing labor standards requirements for paid sick and paid safe time for gig workers working in Seattle; and amending Sections 100.015 and 100.080 of Ordinance 126091 to make technical corrections.\",\n          \"A bill for an ordinance changing the zoning classification for numerous properties located generally within the 38th and Blake Station Area.\\r\\nApproves an official legislative map amendment to apply the River North Design Overlay (DO-7) and 38th and Blake Incentive Height Overlay (IO-1) to existing underlying C-MX- and I-MX- zone districts and overlays on properties generally located within the River North Business Improvement District or within the boundary of the Future Maximum Building Heights Map in the 38th and Blake Station Area Plan Amendments in Council District 9. If ordered published, a public hearing will be held on Monday, 2-12-18. The Committee approved filing this bill at its meeting on 1-2-18.\",\n          \"A RESOLUTION retiring introduced and referred Council Bills, Resolutions, and Clerk Files which have received no further action.\"\n        ],\n        \"semantic_type\": \"\",\n        \"description\": \"\"\n      }\n    },\n    {\n      \"column\": \"city\",\n      \"properties\": {\n        \"dtype\": \"category\",\n        \"num_unique_values\": 6,\n        \"samples\": [\n          \"LongBeachCC\",\n          \"SeattleCityCouncil\",\n          \"BostonCC\"\n        ],\n        \"semantic_type\": \"\",\n        \"description\": \"\"\n      }\n    },\n    {\n      \"column\": \"prompt\",\n      \"properties\": {\n        \"dtype\": \"category\",\n        \"num_unique_values\": 1,\n        \"samples\": [\n          \"Summerize the Whole meeting\"\n        ],\n        \"semantic_type\": \"\",\n        \"description\": \"\"\n      }\n    }\n  ]\n}"
            }
          },
          "metadata": {},
          "execution_count": 8
        }
      ]
    },
    {
      "cell_type": "code",
      "source": [
        "def renaming_dropping_columns(df):\n",
        "  df = df.rename(columns={\"source\": \"meeting_transcript\", \"reference\": \"summary\"})\n",
        "  df.drop(columns=[\"meeting_id\", \"type\", \"city\"], inplace=True)\n",
        "  return df"
      ],
      "metadata": {
        "id": "0iMAq1RXVRDs"
      },
      "execution_count": 9,
      "outputs": []
    },
    {
      "cell_type": "code",
      "source": [
        "queried_original_df = renaming_dropping_columns(queried_original_df)\n",
        "queried_original_df.head()"
      ],
      "metadata": {
        "id": "koLKzJ0AYKP5",
        "colab": {
          "base_uri": "https://localhost:8080/",
          "height": 206
        },
        "outputId": "2f4ec621-80d0-49e7-8040-8c4fbb27b89f"
      },
      "execution_count": 10,
      "outputs": [
        {
          "output_type": "execute_result",
          "data": {
            "text/plain": [
              "                                  meeting_transcript  \\\n",
              "0  Speaker 4: Thank you. And can we do the functi...   \n",
              "1  Speaker 4: We're going to hear all of the pres...   \n",
              "2  Speaker 4: Thank you very much. We will. We're...   \n",
              "3  Speaker 4: Great. Thank you. And, you know, we...   \n",
              "4  Speaker 0: The motion is carried nine zero.\\nS...   \n",
              "\n",
              "                                             summary  \\\n",
              "0  Recommendation to increase appropriations in t...   \n",
              "1  Recommendation to conduct a Budget Hearing to ...   \n",
              "2  Recommendation to declare ordinance amending t...   \n",
              "3  Recommendation to adopt resolution approving t...   \n",
              "4  Recommendation to refer to the Public Health a...   \n",
              "\n",
              "                        prompt  \n",
              "0  Summerize the Whole meeting  \n",
              "1  Summerize the Whole meeting  \n",
              "2  Summerize the Whole meeting  \n",
              "3  Summerize the Whole meeting  \n",
              "4  Summerize the Whole meeting  "
            ],
            "text/html": [
              "<div>\n",
              "<style scoped>\n",
              "    .dataframe tbody tr th:only-of-type {\n",
              "        vertical-align: middle;\n",
              "    }\n",
              "\n",
              "    .dataframe tbody tr th {\n",
              "        vertical-align: top;\n",
              "    }\n",
              "\n",
              "    .dataframe thead th {\n",
              "        text-align: right;\n",
              "    }\n",
              "</style>\n",
              "<table border=\"1\" class=\"dataframe\">\n",
              "  <thead>\n",
              "    <tr style=\"text-align: right;\">\n",
              "      <th></th>\n",
              "      <th>meeting_transcript</th>\n",
              "      <th>summary</th>\n",
              "      <th>prompt</th>\n",
              "    </tr>\n",
              "  </thead>\n",
              "  <tbody>\n",
              "    <tr>\n",
              "      <th>0</th>\n",
              "      <td>Speaker 4: Thank you. And can we do the functi...</td>\n",
              "      <td>Recommendation to increase appropriations in t...</td>\n",
              "      <td>Summerize the Whole meeting</td>\n",
              "    </tr>\n",
              "    <tr>\n",
              "      <th>1</th>\n",
              "      <td>Speaker 4: We're going to hear all of the pres...</td>\n",
              "      <td>Recommendation to conduct a Budget Hearing to ...</td>\n",
              "      <td>Summerize the Whole meeting</td>\n",
              "    </tr>\n",
              "    <tr>\n",
              "      <th>2</th>\n",
              "      <td>Speaker 4: Thank you very much. We will. We're...</td>\n",
              "      <td>Recommendation to declare ordinance amending t...</td>\n",
              "      <td>Summerize the Whole meeting</td>\n",
              "    </tr>\n",
              "    <tr>\n",
              "      <th>3</th>\n",
              "      <td>Speaker 4: Great. Thank you. And, you know, we...</td>\n",
              "      <td>Recommendation to adopt resolution approving t...</td>\n",
              "      <td>Summerize the Whole meeting</td>\n",
              "    </tr>\n",
              "    <tr>\n",
              "      <th>4</th>\n",
              "      <td>Speaker 0: The motion is carried nine zero.\\nS...</td>\n",
              "      <td>Recommendation to refer to the Public Health a...</td>\n",
              "      <td>Summerize the Whole meeting</td>\n",
              "    </tr>\n",
              "  </tbody>\n",
              "</table>\n",
              "</div>"
            ],
            "application/vnd.google.colaboratory.intrinsic+json": {
              "type": "dataframe",
              "variable_name": "queried_original_df",
              "summary": "{\n  \"name\": \"queried_original_df\",\n  \"rows\": 5169,\n  \"fields\": [\n    {\n      \"column\": \"meeting_transcript\",\n      \"properties\": {\n        \"dtype\": \"string\",\n        \"num_unique_values\": 5169,\n        \"samples\": [\n          \"Speaker 4: Next motion is to to declare ordinance, approving an application and requesting the city attorney to prepare the city manager and city manager to execute a development agreement with the Long Beach project owner.\\nSpeaker 13: Excuse me, counsel.\\nSpeaker 4: And I repeat that.\\nSpeaker 7: No, no, that's fine.\\nSpeaker 9: But does your motion on that item include.\\nSpeaker 13: The amendment that Ms.. Bodak mentioned to.\\nSpeaker 9: Exhibit C, the development.\\nSpeaker 7: Agreement that would allow the flexibility of the public works to director to.\\nSpeaker 13: Determine appropriate surfacing of some of the street.\\nSpeaker 1: Areas to.\\nSpeaker 9: Include either slurry.\\nSpeaker 13: Seal or something more extensive.\\nSpeaker 4: Let me strike that and reread that motion. Okay. Okay. Declare ordinance, approving an application and requesting city attorney to prepare and city manager to execute a development agreement with the Long Beach Project Owner, LLC and D Investment Company LLC. Read the first time and lead over to the next regular meeting of the City Council for Final Reading for Motion six at. At the end with the amendment that the specified street repairs be made in the manner approved by the Public Works Director.\\nSpeaker 0: Mr. Bass. Okay. All right. Okay. There's a motion and a second on that. Please cast your votes.\\nSpeaker 1: Motion carries.\\nSpeaker 0: Next item.\",\n          \"Speaker 11: Two excited. The next, I don't believe is 12. Mr. Clarke.\\nSpeaker 6: Yes. Item 12 is a recommendation to approve the fiscal year 2014 first quarter departmental and but departmental and fund budget appropriation adjustments in accordance with existing council policy.\\nSpeaker 11: The motion has been in motion. Second, the Andrews and Johnson.\\nSpeaker 6: Councilmember DeLong Yes, I support the motion. However, want to make a small correction. There is an item on the Collins part that talks about the removing a restroom in its restrooms. So make it plural. So having made the motion, you'll take that friendly amendment, I assume. So we made the motion. You'll take that as a friendly amendment.\\nSpeaker 11: Can you repeat the Family Amendment.\\nSpeaker 6: In the Tidelands area? It says restroom and removal. It's restrooms, plural. It's two not one dollars.\\nSpeaker 11: Don't change tip that's been accepted as friendly amendment. Thank you. Any public comment? So please cast your votes.\\nSpeaker 6: Councilmember Austin, please. Councilmember O'Donnell. Thank you. Motion carries nine votes. Yes. Next item to report from Human Resources with the recommendation to execute a contract with the state of California. To receive $226,150 for Workforce of Workforce Investment Act funds to operate a health care training program.\",\n          \"Speaker 1: Kate. Motion carries unanimously. Thank you. Moving on to the next item. We're actually we had one other request we're going to do item 14. So.\\nSpeaker 2: Item 14 is a report from Parks Recreation Submarine recommendation to receive and file information regarding restorations of the senior meal program at Cesar Chavez and Cerrado, Silverado Parks District one and seven.\\nSpeaker 1: Okay, Councilman Gonzales.\\nSpeaker 9: Yes, I'd like to see if there's a staff report. But while we're waiting for our staff member to get here, I just would like to first thank our senior advisory commission. And I know members of the Gray Panthers that are here as well that have expressed a lot of interest in bringing back the senior food program, both at Chavez and Silverado. I'm glad to hear that it is positively heading in that direction and it could be maybe staffed up very soon. So we'll hear more information very shortly as Marie comes down. And then I'll just sit here and talk and talk until she can come down. That's okay. But I also want to say thank you to Marie as well. She and I chatted. I know that she has worked with a senior advisory commission and I really appreciate your work as well. And here she is. Thank you, Marie.\\nSpeaker 8: Good evening.\\nSpeaker 6: My apologies. You know, trying to do a little business in the back.\\nSpeaker 9: That's all right.\\nSpeaker 6: Thank you. Good evening, Mayor. Members of the City Council. On February 21st, the staff was asked to report back to the city. At that time, the city council and outlining costs related to restoring the meal program at the current state and the current state of the transportation services provided by Long Beach Transit to the two sites at Cesar Chavez and Silverado Park. At that time, the council requested that staff look at other options to fund these two sites and solutions for transportation issues. So this is our status report and an update. In the past few months, staff has researched options for providing senior meals at these two sites. First, reaching back out to HSA to see if they were in a better financial position to return services to these two sites. And unfortunately, their funding has not increased. And as reported previously, the total cost to restore meals at both of these sites by using the HSA program would be over $100,000. Staff then reached out to organizations that may be in the area already providing meals and to through other programs, and contacted multiple community organizations including Empowered for Life, Food Finders, Workforce Development, Aging and Community Services in LA and Women in Action reaching out to ascertain if any of these organizations had either the capacity to add additional sites or if they knew other programs that could be in existence. After multiple conversations, we're excited to report that Women in Action Reaching Out. A local nonprofit organization has offered to provide meals to our seniors at Cesar Chavez and Silverado Parks. The meals will be served Monday through Friday, beginning on Monday, April 24th, from 12 p.m. to 1 p.m.. They will be served either hot or cold and come prepackaged to meet the USDA serving sizes and the organization will be requesting a suggested donation of $1 per meal. Although this will not be mandatory. Women in action. Reaching out has been serving various communities in Long Beach since 2012. They provide meals and snacks to seniors, teens and youth residing in the Carmelite housing area on a year round basis. In addition, they provide afterschool meals at a park in Compton. Meals are also provided to seniors who participate in activities at the Long Beach Expo Center, located in Bixby Knolls. Ms.. Mrs. King, the CEO of Women in Action, reaching out is a very passionate person about her services to the community and is dedicated to providing the best services ever and is very excited about serving our seniors at these two sites. Staff is currently working with the organization on the proper insurance, health permits and agreements, and we are excited to be starting that program next week. We will also continue to research and identify additional locations in these areas that may be providing senior meals, such as local churches and other services and other agencies in case there are other options available for our residents. Finally, we are also in conversation with Meals on Wheels Long Beach to explore the opportunity of enhancing the Meals program at these two sites. To also include meals to homebound seniors. With respect to transportation. In August of 2012, the Long Beach Transit discontinued their passport services to Chavez Park. It was replaced with Route 151, where standard fares apply. The passport service was, as you are aware, a free service. There were no major changes to Route 191 at the time, which stops in front of Silverado Park. The discontinuation of the passport service and the discontinuation of the two meal sites were within months of each other and likely one did not affect the other. Both agencies cited the discontinuation of service because of low participation. I have been in contact with Ken MacDonnell, the CEO of Long Beach Transit, and Mr. McDonald explained that the majority of the three passport services were discontinued several years ago, mainly due to the fact that a lot of their subsidy is based on the number of paid ridership. So the more free ridership.\\nSpeaker 10: That they offered, they.\\nSpeaker 6: Then would be hurt with reduced subsidy. So they only left one free passport service in place. That said, Mr. McDonald understands the issues and wants to be a part of the solution and he will be working with his team and ours to identify opportunities for discounted passes for our seniors to get to these locations, or possibly working together to locate community partners who are interested in funding free passes for our seniors. We hope to have some movement on this issue within the next month and be able to come back to the council to report on that. In addition, on March 23rd, 2017, Long Beach Transit also hosted a community meeting to discuss their systemwide transit analysis and reassessment initiative, which will take an in-depth look into Long Beach Transit's current transit operations, such as one time performance ridership, route efficiency, staffing, etc.. It will also set priorities that will carry Long Beach transit into the future. Two of our senior advisory commissioners in their roles as advocates for our seniors, attended the meeting and presented a proposal for the reinstatement of the passport program on a route to include Cesar Chavez Park. In addition, we have been researching other alternative transportation options for our seniors to utilize to get to these two sites. One option we found could be the immediate needs transportation program operated by L.A. Metro. Through this program, there is a possibility of receiving free bus tokens and passes and taxi vouchers to provide to our seniors who are participating in the Meals program. We have been informed that there is currently a waiting list for this program and we are submitting the necessary paperwork to be on that waiting list. We have also been working with the HSA regarding their Rider Relief Transportation Program, which also provides senior access to reduced cost monthly bus fares. A representative from this program will be visiting both meal sites next week to provide information to the seniors on how they can enroll in the program and receive coupons and vouchers for the discounts. Again, we will continue to look at the opportunities for transportation as we move forward, but we are very pleased that we will be able to reinstate the meals program at these two sites starting next week. That is the end of my report.\\nSpeaker 9: Well, that was great. Thank you so much, Marie. I appreciate it. This was a very in-depth report. I'm glad. I'm very happy. That will be bringing back the meal program to both of these locations. Cesar Chavez Park. Jan Peyser, Community Center as well as Silverado. And I look forward to certainly passing this item here now, but also looking forward to seeing the report come back in a month. That will include additional information about transportation. And I know our senior advisory commission is here. I know they'll continue to work and bring better ideas and more ideas to that discussion. I know a few things that have been mentioned so far that I would just like for us to take into consideration. But I myself am also in communication with Ken McDonald. I've been in talks with you as well. I'm glad we're all on the same page here. In addition to looking at alternative transportation options, bringing back some routes, looking for either free bus passes or some discounted bus passes, I would also like us to kind of open up the question to Long Beach Transit as it really depends on them. You know, they have their own board, their own director, but really looking at also ways that we can add more more stops near build senior buildings. I think that some have been changed, have been moved around, and I think that just creates an additional barrier for them to get to and fro different areas. So I think that's just something for us to look at and then just creating more access in general for that. So again, thank you so very much. Thank you to everyone who's here and I look forward to hearing more.\\nSpeaker 1: Thank you. Council member gearing up.\\nSpeaker 5: Thank you, Mayor. Well, I commend the staff and in their research on getting the program back on line. I think that we still have a responsibility to our seniors that this program should be institutionalized within the city and not have to rely on philanthropic workers, organizations and their generosity to help us keep this program going. So I hope that in the future discussions, we can look at other ways to institutionalize it. So we're not having to go out and reach into the philanthropic community to sustain programs that we should be responsible for here. I also want to commend staff for their efforts in transportation. It's out of our control. However, I think that we need to also work with our partners in transportation, such as Long Beach Transit, to make transportation more affordable and more accommodating to our seniors so that they can get from point A to point B without having having it be a major effort and an all day endeavor for them to get to where they need to be. So I'm looking forward to next month's report. Hopefully it can be a very good one. But again, I want to see the city move forward with institutionalizing the food program for seniors. Thank you very much.\\nSpeaker 1: Thank you, Councilmember Pearce.\\nSpeaker 10: Yes, I just want I really think Marie Knight for a thorough report and for my colleagues for pushing the conversation forward. We know that our senior population is a growing population and we have a senior center in my district and it's a great place to visit and it is a place where we do have access to a lot of different meal programs there. And so making sure that this is something that other districts in areas have is really important to me. And I really appreciate you circling back with public transit. I know it's one of the things that we're trying to work on as well. And so I support everything that you guys are doing and I would continue to support trying to institutionalize, you know, ensure that these programs are reoccurring with some city support. And also just really a big thank you to the nonprofits and the community groups out there that step up to do this work because you're not required to do that. So thank you so much.\\nSpeaker 1: Thank you, Councilman Austin.\\nSpeaker 7: Thank you. And I also like to just agree with my colleagues. I want to thank Marie Knight and Parks and Recreation and Marine Four for their work and their efforts to improve services, in address services for our seniors all across the city, and particularly in the areas of senior meals and transit access. It was it was mentioned that by Councilmember Gonzalez that she'd like to see more access points. I think there is opportunity, particularly in terms of engaging, engaging Long Beach transit. They do have no more resources now as a result of Measure M and and SB one. And so we should, should encourage them to increase, improves transit services and use those resources to improve transit services to our seniors. I also want to commend women in action reaching out. I know I made the recommendation that when this issue came before us, that we look at that organization, organization as doing some amazing work out of the Carmen Leto's community. If you go there on a daily basis, you can see a team of volunteers, women in action, reaching out, preparing hundreds of meals and feeding hundreds of seniors in North Long Beach and now in Compton. I believe now they'll be volunteering their services for seniors on the West Side into two park locations, which I think is awesome. And it shows the capacity and amazing potential to integrate our senior communities throughout the city of Long Beach. And so but I will agree with our Councilmember Urunga, in terms of the sustainability, I'd like to see that program be sustainable in an organization like Women in actually reaching out. I think, you know, there should be a codified agreement in a contract at some point in the future to to make sure that those services are are sustainable and that there are the seniors cannot can depend on them moving forward in terms of their quality of life. And yeah, I'm just proud that that that we're having an impact and able to to touch the lives of hundreds of more seniors throughout the city. And so good luck and look forward to it coming back. I'll support this.\\nSpeaker 1: Okay. Thank you. There's a motion and a second, I think, with a public comment. Stepped away with that. Did we do public comment? No. Let's look. Set the way. I wasn't sure if that happened when I stepped away. So public comment, please come forward if you have public comment. I get a lot of time from guys tonight. I apologize if you get tired of hearing from me about anyway. Bill again from Council District three. Maureen, I want to thank you for bringing this attention for the meals program to these very important parks. There are some programs in Los Angeles County where the increase has needed and the demand has increased. In fact, there's now a waiting lists for some food programs in Los Angeles County. We don't want to hear this kind of thing. However, regarding transportation, I would like to see a collaboration between the City Hall, Language Transit and Uber and Lyft. Uber just released their financials. Last year, they had $6.5 billion in profits. I think they could afford a little reinvestment in our community, which they're participating in. And also, I'd like to say that last week at Cal State, Long Beach, I believe, Marie, you were there for the aging and reimagining aging. Unfortunately, I was unable to attend that event. I was in Los Angeles attending the first annual ever AARP first annual elder summit. Got a lot of great information. Metro was there. They're asking for our feedback. So I'd like to see and I know Mayor Garcia is on the Metro board now. So I'd like to see some kind of collaboration, if we can. Something that we can do there as well. We are more than glad to send to you via email to your office the presentation that was performed by Metro there on their long ago program for transportation. There was a lot of great knowledge there for seniors, so definitely I'd like to support this item. Marie, thank you for your support and I'll definitely be contacting you on other items on seniors. Thank you.\\nSpeaker 8: Good evening.\\nSpeaker 6: I'm Mary Alice. You? I'm the chairperson for the Senior Citizens Advisory Commission, and we have been working on this.\\nSpeaker 8: Project for Meals.\\nSpeaker 6: For.\\nSpeaker 8: Seniors for one year. Exactly. So we have been very patient in waiting.\\nSpeaker 6: It's taken a lot of organization and a lot of meetings.\\nSpeaker 8: And so we are now finally coming to fruition.\\nSpeaker 6: And I want to thank Marie and her staff for all the work that they did. And I also want to thank Lena Gonzalez for her patience and waiting. And so I'm happy to see that we're going to be able to have some nutrition for our seniors and hopefully.\\nSpeaker 8: We can get Ken McDonald, the CEO.\\nSpeaker 6: From Long Beach Transit, to hear our message in our voice and and do the proper things so that we can bring our seniors there. Thank you very much.\\nSpeaker 8: Karen Reseda, resident of the first district and secretary for the Long Beach Gray Panthers. And thank you, Mary, for all your work in getting this program back. I am. These lunch programs are absolutely critical for low income senior population. A lot of them depend on these programs. It's often their only hot meal of the day. I know when I find myself going to many meetings, that's the only hot meal I get. I participate in the lunch program over at the Fourth Street Senior Center, and there's regularly over 100 people and usually 10 to 15 people that come in, get on the waitlist, and oftentimes they don't get served because there's not enough food, because the demand is so large. But even more critical in the food and the transportation is the socialization opportunities for many seniors. The senior center is the hub of their socialization experience. So thank you all for supporting this and thank you your anger, Mr. Erakat, for suggesting that it be institutionalized. It really does need to be used for the well-being of our seniors and our community and keeping them healthy and aging in homes and reducing our health care costs . I want to hitch a ride on her last statement. She said. The seniors are in homes.\\nSpeaker 0: However.\\nSpeaker 8: As your homeless count will bear when the record is finally posted on your website. It's taken in January, but it's not up yet. The homeless count. That a passenger, a large percentage of those people are homeless. So you have seniors who not only are not part of your social structure because they are homeless, many of them are scraping on their food stamp card, the general relief card. And they're not getting to those meals. In thing, seniors said service centers that you're now going to restore and because they're considered public outcry casts. Some of them might have to show up dirty. And because they know that if they showed up dirty, that they wouldn't be socially accepted. They're not going to make it. So as we're seeking to restore your meals. I want to remind us of a man who died on the side of the Bank of America building in District four. He was taken off the street a month before he died. But he sat there morning after morning. Some people would bring him food. But I wonder what would would have happened if he had been invited into the singer's center. Someone would have noticed, oh, he's homeless. So he instead of being taken off the street one month before he died, if he had been invited into the senior center for Meals, he might have been off the street earlier than one month before he died. We think, in terms of seniors who are in housing. But many of you seniors who are homeless, seniors who are homeless will not see even these meals. Now. I'm 56. We're all going to be singers one day. If some of us already are. In front of me and behind me. What is it going to take? To get the same news that you counted in January who are homeless. Into those centers where these meals are. What is it going to take us to do this? And when you go to sleep tonight, I hope that's on your mind. What? What can I do personally?\\nSpeaker 0: Thank you, Mr. President. Would you like to speak on?\\nSpeaker 4: Those of you who know me know that I rarely speak after public comment. I don't think it's right that we have the last word. But these comments tonight were so egregious that I have to respond. So I'm references a particular individual in the fourth District, Richard, was a success story. We got him off the street and into housing. So I just want to set the record straight there. Ask anyone in our health department. They'll tell you that this was a miracle, what we did. Also, just to set the record straight on the homeless count, I watched it for many, many years. I don't ever remember it being out before late April. So there's nothing new about that. Thank you.\\nSpeaker 0: Thank you. This is Councilman Gonzalez.\\nSpeaker 9: Yes. I just wanted to add one last thing, is that I think in when we brought this item forward some time ago, this was really done in honor of Ruth Ricker in terms of bringing the meal program back. And I know the senior advisory commission knows that, and I know that we're looking to possibly rename this after her. She was a fantastic person that really believed in bringing that back also for the socialization issue. But this will be a great memory for her. Thank you.\\nSpeaker 5: Thank you very much. I see no more. We have no one more individual than the diocese. Okay, fine. We'll do a voice count. Please cast your vote. I. I. I.\\nSpeaker 4: I. I. I. I.\\nSpeaker 2: Motion carries.\\nSpeaker 0: No, I'm fine. Thank you. Notamment. Yes.\"\n        ],\n        \"semantic_type\": \"\",\n        \"description\": \"\"\n      }\n    },\n    {\n      \"column\": \"summary\",\n      \"properties\": {\n        \"dtype\": \"string\",\n        \"num_unique_values\": 4743,\n        \"samples\": [\n          \"AN ORDINANCE relating to gig workers in Seattle; establishing labor standards requirements for paid sick and paid safe time for gig workers working in Seattle; and amending Sections 100.015 and 100.080 of Ordinance 126091 to make technical corrections.\",\n          \"A bill for an ordinance changing the zoning classification for numerous properties located generally within the 38th and Blake Station Area.\\r\\nApproves an official legislative map amendment to apply the River North Design Overlay (DO-7) and 38th and Blake Incentive Height Overlay (IO-1) to existing underlying C-MX- and I-MX- zone districts and overlays on properties generally located within the River North Business Improvement District or within the boundary of the Future Maximum Building Heights Map in the 38th and Blake Station Area Plan Amendments in Council District 9. If ordered published, a public hearing will be held on Monday, 2-12-18. The Committee approved filing this bill at its meeting on 1-2-18.\",\n          \"A RESOLUTION retiring introduced and referred Council Bills, Resolutions, and Clerk Files which have received no further action.\"\n        ],\n        \"semantic_type\": \"\",\n        \"description\": \"\"\n      }\n    },\n    {\n      \"column\": \"prompt\",\n      \"properties\": {\n        \"dtype\": \"category\",\n        \"num_unique_values\": 1,\n        \"samples\": [\n          \"Summerize the Whole meeting\"\n        ],\n        \"semantic_type\": \"\",\n        \"description\": \"\"\n      }\n    }\n  ]\n}"
            }
          },
          "metadata": {},
          "execution_count": 10
        }
      ]
    },
    {
      "cell_type": "markdown",
      "source": [],
      "metadata": {
        "id": "Dkfdu3KIw_XF"
      }
    },
    {
      "cell_type": "code",
      "source": [
        "from sklearn.model_selection import train_test_split\n",
        "\n",
        "query_train, query_temp = train_test_split(df_with_query, test_size=0.3, random_state=42)\n",
        "query_val, query_test = train_test_split(query_temp, test_size=0.5, random_state=42)\n",
        "\n",
        "query_val = query_val.reset_index(drop=True)\n",
        "query_test = query_test.reset_index(drop=True)\n"
      ],
      "metadata": {
        "id": "9nOGVCvEx6Hk"
      },
      "execution_count": 11,
      "outputs": []
    },
    {
      "cell_type": "code",
      "source": [
        "train_df = pd.concat([query_train, queried_original_df], axis=0)\n",
        "train_df.head()"
      ],
      "metadata": {
        "id": "t0jdQLGXWzaJ",
        "colab": {
          "base_uri": "https://localhost:8080/",
          "height": 206
        },
        "outputId": "89dea701-a1b1-4214-887b-5977f5a7b316"
      },
      "execution_count": 12,
      "outputs": [
        {
          "output_type": "execute_result",
          "data": {
            "text/plain": [
              "                                              prompt  \\\n",
              "0  What are the key details of the proposal to tr...   \n",
              "1  What specific actions and recommendations are ...   \n",
              "2  What specific monitoring and reporting measure...   \n",
              "3  What was the outcome of the recommendation to ...   \n",
              "4  What conditions were placed on the entertainme...   \n",
              "\n",
              "                                  meeting_transcript  \\\n",
              "0  Speaker 0: Okay. Item 17, please.\\nSpeaker 1: ...   \n",
              "1  Speaker 0: The motion is here.\\nSpeaker 1: Tha...   \n",
              "2  Speaker 2: The Report of the Seattle Public Ut...   \n",
              "3  Speaker 0: Item number 34. Could you please be...   \n",
              "4  Speaker 0: Thank you. We have a motion in a se...   \n",
              "\n",
              "                                             summary  \n",
              "0  The proposal involves transferring one-time di...  \n",
              "1  Based on the meeting transcript, here's a summ...  \n",
              "2  Here's a summary addressing the prompt:\\n\\n**M...  \n",
              "3  The recommendation to execute documents with D...  \n",
              "4  The entertainment permit for St. Anita's resta...  "
            ],
            "text/html": [
              "<div>\n",
              "<style scoped>\n",
              "    .dataframe tbody tr th:only-of-type {\n",
              "        vertical-align: middle;\n",
              "    }\n",
              "\n",
              "    .dataframe tbody tr th {\n",
              "        vertical-align: top;\n",
              "    }\n",
              "\n",
              "    .dataframe thead th {\n",
              "        text-align: right;\n",
              "    }\n",
              "</style>\n",
              "<table border=\"1\" class=\"dataframe\">\n",
              "  <thead>\n",
              "    <tr style=\"text-align: right;\">\n",
              "      <th></th>\n",
              "      <th>prompt</th>\n",
              "      <th>meeting_transcript</th>\n",
              "      <th>summary</th>\n",
              "    </tr>\n",
              "  </thead>\n",
              "  <tbody>\n",
              "    <tr>\n",
              "      <th>0</th>\n",
              "      <td>What are the key details of the proposal to tr...</td>\n",
              "      <td>Speaker 0: Okay. Item 17, please.\\nSpeaker 1: ...</td>\n",
              "      <td>The proposal involves transferring one-time di...</td>\n",
              "    </tr>\n",
              "    <tr>\n",
              "      <th>1</th>\n",
              "      <td>What specific actions and recommendations are ...</td>\n",
              "      <td>Speaker 0: The motion is here.\\nSpeaker 1: Tha...</td>\n",
              "      <td>Based on the meeting transcript, here's a summ...</td>\n",
              "    </tr>\n",
              "    <tr>\n",
              "      <th>2</th>\n",
              "      <td>What specific monitoring and reporting measure...</td>\n",
              "      <td>Speaker 2: The Report of the Seattle Public Ut...</td>\n",
              "      <td>Here's a summary addressing the prompt:\\n\\n**M...</td>\n",
              "    </tr>\n",
              "    <tr>\n",
              "      <th>3</th>\n",
              "      <td>What was the outcome of the recommendation to ...</td>\n",
              "      <td>Speaker 0: Item number 34. Could you please be...</td>\n",
              "      <td>The recommendation to execute documents with D...</td>\n",
              "    </tr>\n",
              "    <tr>\n",
              "      <th>4</th>\n",
              "      <td>What conditions were placed on the entertainme...</td>\n",
              "      <td>Speaker 0: Thank you. We have a motion in a se...</td>\n",
              "      <td>The entertainment permit for St. Anita's resta...</td>\n",
              "    </tr>\n",
              "  </tbody>\n",
              "</table>\n",
              "</div>"
            ],
            "application/vnd.google.colaboratory.intrinsic+json": {
              "type": "dataframe",
              "variable_name": "train_df",
              "summary": "{\n  \"name\": \"train_df\",\n  \"rows\": 6149,\n  \"fields\": [\n    {\n      \"column\": \"prompt\",\n      \"properties\": {\n        \"dtype\": \"category\",\n        \"num_unique_values\": 980,\n        \"samples\": [\n          \"What were the key achievements and future strategic goals of the Veterans Affairs Commission as presented?\",\n          \"What decisions were made, and what topics were discussed regarding the consent calendar and the community garden in North Long Beach?\",\n          \"What were the primary concerns raised by the public regarding the contract renewal with the Shri Ganesh motel, and what was the council's final decision?\"\n        ],\n        \"semantic_type\": \"\",\n        \"description\": \"\"\n      }\n    },\n    {\n      \"column\": \"meeting_transcript\",\n      \"properties\": {\n        \"dtype\": \"string\",\n        \"num_unique_values\": 5169,\n        \"samples\": [\n          \"Speaker 4: And the next out of turn, we're going to take item 23. Click we read the item. Sure. It's long. I can try.\\nSpeaker 2: Communication from Councilwoman Mongo and Vice Mayor Richardson. Recommendation to direct the city manager to implement mandatory general fund budget saving saving targets for fiscal year 2018 and direct city manager to work with the Department of Financial Management to provide a mid-year progress report.\\nSpeaker 4: So I want to thank the community for the overwhelming support and feedback that this Council is doing a fiscally appropriate job in setting out goals and targets so that we can fend off the currently anticipated shortfalls in the next fiscal year. We want realistic opportunities for savings, and we look forward to working hand in hand with our department partners to ensure that the future ahead is bright and that no city services will be cut in the future fiscal years. Because we know that those are the kinds of services that our quality of life is dependent on. Vice Chair. Vice Mayor.\\nSpeaker 5: Thank you, Councilmember. And I second this motion strongly. I think we all know we've seen the three projections that we may have to make some difficult decisions in the years to come. You know, having worked in the city through some very difficult budget years, I remember those those were tough choices. And so as we, you know, adopt a budget tonight, I think we immediately look to the future by identifying ways to sort of balance our budget next year and diminish limit the impact of the programs that are important to all of us by starting to identify those efficiencies today. You know, this is a tool. I think this is a smart tool. So thank you, Councilwoman Mongeau, and all the budget staff and city manager staff that have advised our advisors through this conversation. The budget savings target is a great tool to start. You know, with the carrot approach, you get to set a target, keep that money in your budget, but try to find ways where you can spend a little bit less without major impacts to staff or major impacts the program to where in a year from now. When we come back, the homework has been done. So we're taking the problem of stretching over a year and figuring it out over a year's time, because we know that this budget conversation, it comes up on it pretty quick every year. So it has my strong support. I encourage the city council and city staff to really embrace this and build support. Thank you.\\nSpeaker 4: I actually have had some dialog with some of our department heads already and they did targets even this year and created some scenarios before we knew where we were. And so some of them are already a year down a path and hopefully halfway to the new goal. So we like to set ambitious goals so that we can achieve them. So I urge my colleagues to support this item.\\nSpeaker 6: Public comment.\\nSpeaker 4: Oh, public comment on this item. See CNN.\\nSpeaker 1: She? I was saying this time I got a public comment on the part that he moved without eliminating jobs or programs. Well, as a black man in Long Beach, too many jobs for black folks. Everywhere I look, black folks sitting around doing nothing. But everywhere I see you can almost look at it. You can't always tell who's illegal and who's not. But everybody who has a job seems to be Hispanic. Is that your doing, mayor? I'm pretty sure he didn't do it, so I didn't do it. So the thing is, is what I'm here to ask you as mayor is when are you going to try to help black folks out? When are you going to do it? Yes. Rhetorical. Because I really don't think you're trying to do it. You know, so I'm here to represent that. Help us, Mr. Mayor, because you go about Section eight office. Look right across this all over. When you walk right out here, when you walk right out here, they're laying right by the library. You got those? You passed $225 million bills. I went with my camera asking and nobody heard nothing. They couldn't get in shelters. Right. So I don't know where the hell that money's going to. So you got the we fought a civil rights movement. We came over as slaves and we ain't got work. We came here to work and we ain't got work. This ain't the white man's fault. You talk about the gentrification, all the little groups that you find in everything. This is your fault. You're the mayor. The white people seem to be on Main Street with cops. They got a problem, just like the black people. But that's your problem. I just did a thing over of Chair in the Alamo, and there was a three foot dam high. There's so much. This place is starting to look like what? This place is looking like. What? You got people up and down. Cherry Guy Cab. You can't even be a citizen. He's selling watermelons. Ever since. I've been living here for four and a half years, and everybody got to see him. But let me get my ass out there with a barbecue pit. See if I can stay out there for two days. Get out of here. So maybe I should start selling barbeque fried chicken and potato salad out there and see, you know, see if you protect me. I know you've had to pass it. So what I'm saying is I'm asking you to make sure there's some justice. Justice? You see something legal? You drive around this place, you see this ghetto that you make. And I never heard of a Republican get all my life. And I say these Republicans, we have a PR angle, miss. No names start voting like Republicans and act like Republicans because well, we call them as rhinos when you vote like that. You vote everywhere with a Democrat and a liberal. First of all, Democrats have nothing for black folks in Iowa. How many years away? I'm just saying, change your ways as far as brothers. Start helping brothers and Republicans start acting like you and Janine Pearce leave town or something. That's what you need to do and change your ways. Do something for somebody else. Thank you for your time.\\nSpeaker 4: Senior Fellow Public Comment. Members cast your vote. Motion carries item 1.1 to recommendation to adopt the budget oversight committees proposed funding recommendations as amended to the fiscal year 18 proposed budget. And I will read those now. So as mentioned, Budget Oversight Committee, the budget process has changed considerably over the last several years.\",\n          \"Speaker 1: Item 14 Report from Economic and Property Development Recommendation to Declare City Owned Property located at 240 Long Beach Boulevard. 322 356 East Third Street and 269 Avenue as surplus and execute all documents necessary for the sale of the subject properties in the amount of 2.3 million.\\nSpeaker 0: District two Vice Mayor Lowenthal.\\nSpeaker 1: Thank you, Mr. Mayor. So Councilwoman Gonzales and I were trying to figure out how long it's been. And I know this council's accustomed to hearing me say that I've worked on something for five years or six years. I think this one takes the cake. So this moment has been 15 years in the making, more than 15 years in the making. Long before I joined the council, I was a resident in downtown at around 2000, and I recall initial conversations between artists and residents who envisioned an innovative visual arts center in downtown Long Beach. There are a lot of members of the downtown community that have at one time or another participated in the art exchange effort, whether it was for the entire 15 years, some of us, certainly for the entire 15 years and others have come in at critical times and helped move us forward. They wanted space, these individuals, these artists for creative programing, artists, studios, galleries and special events 15 years and several, several iterations later. And you finally found a place to call home in the East Village Arts District. And I want to thank all of those individuals who've hung in there with us in the city and really with each other to make this happen. I'm especially thankful for Steve Elicker, who is one of the pioneers and been part of this for more than 15 years. But definitely the entire time we've worked together as a city. I know how important owning your building is for fundraising for all of the other aspects that provide legitimacy to the work that you do. And that point has never been lost on me. As for the acres of the books building, acres of books building, I'm very pleased to have a premier local development team in J.R. vendors working on its restoration and adaptive use. I know they're here today. Most of you are familiar with John's incredible work around town with the Ebell Club on Third Street, the art theater on Fourth Street, and most recently, the American Hotel or the Psychic Hotel, as some of us know it on Broadway, the new home of Inter Trent. So I have high hopes for adaptive reuse of acres of books. I understand that some community members are still disappointed with the city for taking a beloved independent bookstore away. And I understand that. And I think those are decisions that were made at a time and those that certainly we're not here to challenge today. But I do acknowledge that there is some disappointment. But with that always comes something sweet as well. It certainly. It didn't help that we had to go through a historic recession to reach this point. I think we are all aware of the impact that that has had on many projects and certainly had an impact here. But I will say this, Phil and Jacqui Smith, who were owners of the property, were able to walk away and start their own life, their own new life, and have a new lease on life, a retirement package that might never have come had they stayed. And certainly those were the times that we had the redevelopment agencies to assist. And so we move on and we make the best of our current circumstances. And I think the art exchange team certainly has helped us make the best of what we have available and are going to show us and and this city what they're able to do with this beautiful location. The residents in Long Beach will soon have a vibrant city block filled with the arts, culture, commercial and residential uses. And I'm really optimistic, very optimistic about the future connection of our downtown core with the East Village, especially when I look at what's happening to yellow yellow 108, the blender and rainbow juices, the redesign of City Place and soon to be finished Edison Lofts with Reykjavik Properties. And I know Mr. Activity is here today as well. Something to be said about connecting the East Village and the downtown core. When the old mall before City Place was here, I think it was called the Long Beach Mall. Yes, yes. Long Beach Mall. It divided the downtown. It separated the East Village from the downtown. And something that we all who live there, work there, love the heart of the downtown wanted to see more than anything was to open that up. And so the fact that City Place did that in some way by opening up Fourth Street and Fifth Street, it helped. But I think this project will help even more to reconnect, to stitch the East Village to its proper downtown location. And we also have Cliff I mentioned earlier, Cliff and John are here and they're behind this project as well. So we couldn't ask for a better group of folks working on this block. I'm very pleased, Mr. Mayor, to move this item for approval.\\nSpeaker 0: Thank you, Councilwoman Gonzalez.\\nSpeaker 5: Everything that the vice mayor said, plus more. I'm very thrilled to have this tonight on the agenda. I know she has worked tirelessly for many years to be able to bring the communities together. And I see John and I see Richard there. And it's been a wonderful now we're here and it's been a wonderful manifestation of what is possible in downtown an East Village. And I see Nico here as well from the art exchange. And this is going to be very exciting. I know as many of us are going through looking at the different changes in downtown, this is one more thing that we can feel very, very accomplished for. So I commend Vice Mayor Lowenthal for all of her work in this.\\nSpeaker 0: Thank you, Councilman Andrus.\\nSpeaker 3: Yes, thank you, Mayor. You know, I am really happy to see that we will continue to, you know, the progress that we are doing in the downtown area. But before I really vote in this area, I want to make sure that we are hiring Long Beach residents for any demo or construction as promised by the developers. You know, I like to, you know, have a status report on how many jobs we are creating and how many that were filled by the Long Beach residents. If that would be okay.\\nSpeaker 0: We could certainly come back with a report on that.\\nSpeaker 3: I can accept that. Thank you.\\nSpeaker 0: Thank you. Vice Mayor Lowenthal.\\nSpeaker 1: Thank you, Mr. Mayor. And I would be remiss if I did not think our city team and actually, I think Amy's been there from the beginning as well. I don't know if she's here tonight, but Amy and Angela Reynolds, they're all here and know this project from the beginning. And I want to thank our city team for hanging in there as well with the artist and the proponents for the project. And something that I wanted to mention, oftentimes developments talked about as being conducted by entities from outside the city. Folks that don't know our city really, not our residents. But if you look at this team, the team that art exchange is made up of, as well as the development team, they are local people. They live here. Almost all of them are local. And that's something that I think we don't talk about very much because maybe it's more commonplace here than in other cities. But I want to celebrate that and I want to be sure that we do celebrate that, that this is a local project by local community members so that they can continue to live and work in the city they love. Thank you.\\nSpeaker 0: Thank you. Before we go to any public comment, I just want to add first, congratulations, obviously, to the team that's putting this forward. I just want to say that we've been talking about the site for such a long time. It's such an important connection for for downtown. I'm really I'm heartened by the fact that there's that there's artists involved. And it's going to be really centered around this idea of creating art. And I think that the fact that the team is working with or with the art exchange, the team is working to develop that kind of a feel on the site and also adaptively reuse the acres of book site, which I think is really important. I think it's something that's really, I think, a proud moment for the city. It's been tough getting here. But I want to congratulate the vice mayor for seeing this project through. And here we are and of course, everyone that's been involved in the project. So with that, if there's any public comment on the project, please come forward.\\nSpeaker 1: And I have to say, Mr. Mayor, we all have less hair. All of us.\\nSpeaker 4: All right.\\nSpeaker 1: I do.\\nSpeaker 3: Thanks. Nice man.\\nSpeaker 4: Oh, sorry, Mr. Goodhue.\\nSpeaker 7: Very good. Clark, as the address, the use of the property, in my view, is certainly not at issue. In my mind, what's at issue is the way the sale is going about. And I had this same trip, the same problems with the disposal of earlier properties that were rattled off rather quickly. I would rather see. And I think it makes sense. To have the properties put up for sale. To the highest bidder that shows up at the courthouse step with a cashier's check period. I think that's the way to go. I think that's always the way to go. And I'm sure that you would not be comfortable passing this unless you had the and I don't know, maybe she's done it. The approval of or reflections from the city auditor as to whether or not this is financially sound. Disposing of the property in the way we're disposing of it and so forth. Is there? Am I wrong? But I don't see. Any report from the city auditor indicating whether or not this is financially sound or not. Is that something that the clerk failed to attach to that, or is it just simply because that was not done ? What's the public record show? So the public record shows the council is moving, prepared to move forward without a recommendation one way or the other from the city auditor. That speaks volumes. Thank you.\\nSpeaker 0: Thank you, sir. Any other public comment on the item? Seeing none. There's a motion any second. Please cast your votes.\\nSpeaker 1: Motion carries.\\nSpeaker 0: Thank you. Item 14.\\nSpeaker 1: 15.\\nSpeaker 0: Was it 15? Yes.\",\n          \"Speaker 1: Next item, please, which is 36.\\nSpeaker 0: Communication from Councilmember Pearce recommendation to increase appropriations in the Public Works Department by 5600 to install speed cushions on Florida Street from Cherry Avenue to One Opera Avenue in the Second District.\\nSpeaker 1: Councilor Beers.\\nSpeaker 2: Thank you so much. I just want to say how much I appreciate our public works really working with us. We have been trying to slow traffic down on the street since literally my first month in office. And it's it's very much wanted by the constituents there. So hopefully I can get everybody support. Thank you.\\nSpeaker 1: Any public comment?\\nSpeaker 0: No public comment on this item.\\nSpeaker 1: Roll call vote please.\\nSpeaker 0: District one. High District two. I District three. District Court.\\nSpeaker 1: All right.\\nSpeaker 0: District five by district seven i. District eight.\\nSpeaker 1: I.\\nSpeaker 0: District ninth.\\nSpeaker 1: I.\\nSpeaker 0: Motion carries.\\nSpeaker 1: Okay. 49, please.\"\n        ],\n        \"semantic_type\": \"\",\n        \"description\": \"\"\n      }\n    },\n    {\n      \"column\": \"summary\",\n      \"properties\": {\n        \"dtype\": \"string\",\n        \"num_unique_values\": 5723,\n        \"samples\": [\n          \"Recommendation to receive and file a report back from Human Resources, City Auditor, and Health and Human Services Department on the Human Resource Audit and Trauma-Informed City that was originally approved by City Council on September 18, 2018.\",\n          \"Recommendation to receive and file a one-year update on the implementation of the Racial Equity and Reconciliation Initiative.  (Citywide)\",\n          \"A bill for an ordinance amending Chapter 48 of the Denver Revised Municipal Code by adding Article IX entitled Fee on Disposable Bags. \\r\\nA bill for an ordinance amending Chapter 48 of the Denver Revised Municipal Code by adding Article IX entitled Fee on Disposable Plastic or Paper Bags and amending Chapter 24 by adding conforming amendments. The last regularly scheduled Council meeting within the 30-day review period is on 1-6-20. The Committee approved filing this item at its meeting on 12-3-19.\"\n        ],\n        \"semantic_type\": \"\",\n        \"description\": \"\"\n      }\n    }\n  ]\n}"
            }
          },
          "metadata": {},
          "execution_count": 12
        }
      ]
    },
    {
      "cell_type": "markdown",
      "source": [],
      "metadata": {
        "id": "jvEdYicb7C7e"
      }
    },
    {
      "cell_type": "code",
      "source": [
        "train_df.info()"
      ],
      "metadata": {
        "colab": {
          "base_uri": "https://localhost:8080/"
        },
        "id": "8QxUpHUn31sn",
        "outputId": "a91c3619-577a-45ff-ab56-86e80159c431"
      },
      "execution_count": 13,
      "outputs": [
        {
          "output_type": "stream",
          "name": "stdout",
          "text": [
            "<class 'pandas.core.frame.DataFrame'>\n",
            "RangeIndex: 6149 entries, 0 to 6148\n",
            "Data columns (total 3 columns):\n",
            " #   Column              Non-Null Count  Dtype \n",
            "---  ------              --------------  ----- \n",
            " 0   prompt              6149 non-null   object\n",
            " 1   meeting_transcript  6149 non-null   object\n",
            " 2   summary             6149 non-null   object\n",
            "dtypes: object(3)\n",
            "memory usage: 144.2+ KB\n"
          ]
        }
      ]
    },
    {
      "cell_type": "code",
      "source": [
        "original_val_df = pd.read_csv(\"hf://datasets/lytang/MeetingBank-transcript/\" + splits[\"validation\"])"
      ],
      "metadata": {
        "id": "W7vJOEVmXQ80"
      },
      "execution_count": 30,
      "outputs": []
    },
    {
      "cell_type": "code",
      "source": [
        "original_val_df = add_summerize_query(original_val_df)\n",
        "final_val_df = renaming_dropping_columns(original_val_df)"
      ],
      "metadata": {
        "id": "QnEo_UjGYcJ5"
      },
      "execution_count": 31,
      "outputs": []
    },
    {
      "cell_type": "code",
      "source": [
        "final_val_df.info()\n",
        "query_val.info()"
      ],
      "metadata": {
        "id": "b4N4qo4O7Hwq",
        "outputId": "f66d0821-26d9-41e1-e368-f5d6d1d9f104",
        "colab": {
          "base_uri": "https://localhost:8080/"
        }
      },
      "execution_count": 32,
      "outputs": [
        {
          "output_type": "stream",
          "name": "stdout",
          "text": [
            "<class 'pandas.core.frame.DataFrame'>\n",
            "RangeIndex: 861 entries, 0 to 860\n",
            "Data columns (total 3 columns):\n",
            " #   Column              Non-Null Count  Dtype \n",
            "---  ------              --------------  ----- \n",
            " 0   meeting_transcript  861 non-null    object\n",
            " 1   summary             861 non-null    object\n",
            " 2   prompt              861 non-null    object\n",
            "dtypes: object(3)\n",
            "memory usage: 20.3+ KB\n",
            "<class 'pandas.core.frame.DataFrame'>\n",
            "RangeIndex: 210 entries, 0 to 209\n",
            "Data columns (total 3 columns):\n",
            " #   Column              Non-Null Count  Dtype \n",
            "---  ------              --------------  ----- \n",
            " 0   prompt              210 non-null    object\n",
            " 1   meeting_transcript  210 non-null    object\n",
            " 2   summary             210 non-null    object\n",
            "dtypes: object(3)\n",
            "memory usage: 5.1+ KB\n"
          ]
        }
      ]
    },
    {
      "cell_type": "code",
      "source": [
        "final_val_df = pd.concat([final_val_df, query_val], axis=0, ignore_index=True)"
      ],
      "metadata": {
        "id": "FSpTonEp4Ztu"
      },
      "execution_count": 33,
      "outputs": []
    },
    {
      "cell_type": "code",
      "source": [
        "final_val_df.info()"
      ],
      "metadata": {
        "id": "TRn478od6pMe",
        "outputId": "fdc93f5d-16cc-4d2b-de60-c340de4d3d53",
        "colab": {
          "base_uri": "https://localhost:8080/"
        }
      },
      "execution_count": 34,
      "outputs": [
        {
          "output_type": "stream",
          "name": "stdout",
          "text": [
            "<class 'pandas.core.frame.DataFrame'>\n",
            "RangeIndex: 1071 entries, 0 to 1070\n",
            "Data columns (total 3 columns):\n",
            " #   Column              Non-Null Count  Dtype \n",
            "---  ------              --------------  ----- \n",
            " 0   meeting_transcript  1071 non-null   object\n",
            " 1   summary             1071 non-null   object\n",
            " 2   prompt              1071 non-null   object\n",
            "dtypes: object(3)\n",
            "memory usage: 25.2+ KB\n"
          ]
        }
      ]
    },
    {
      "cell_type": "code",
      "source": [
        "original_test_df = pd.read_csv(\"hf://datasets/lytang/MeetingBank-transcript/\" + splits[\"test\"])"
      ],
      "metadata": {
        "id": "Z-_2CAU3X5_t"
      },
      "execution_count": 38,
      "outputs": []
    },
    {
      "cell_type": "code",
      "source": [
        "original_test_df = add_summerize_query(original_test_df)\n",
        "final_test_df = renaming_dropping_columns(original_test_df)"
      ],
      "metadata": {
        "id": "PC6GzNOeYpkL"
      },
      "execution_count": 39,
      "outputs": []
    },
    {
      "cell_type": "code",
      "source": [
        "final_test_df.info()\n",
        "query_test.info()"
      ],
      "metadata": {
        "id": "xVnyO8W58KHN",
        "outputId": "a0e6c71f-6ee2-4159-c200-667b07da33e6",
        "colab": {
          "base_uri": "https://localhost:8080/"
        }
      },
      "execution_count": 40,
      "outputs": [
        {
          "output_type": "stream",
          "name": "stdout",
          "text": [
            "<class 'pandas.core.frame.DataFrame'>\n",
            "RangeIndex: 862 entries, 0 to 861\n",
            "Data columns (total 3 columns):\n",
            " #   Column              Non-Null Count  Dtype \n",
            "---  ------              --------------  ----- \n",
            " 0   meeting_transcript  862 non-null    object\n",
            " 1   summary             862 non-null    object\n",
            " 2   prompt              862 non-null    object\n",
            "dtypes: object(3)\n",
            "memory usage: 20.3+ KB\n",
            "<class 'pandas.core.frame.DataFrame'>\n",
            "RangeIndex: 210 entries, 0 to 209\n",
            "Data columns (total 3 columns):\n",
            " #   Column              Non-Null Count  Dtype \n",
            "---  ------              --------------  ----- \n",
            " 0   prompt              210 non-null    object\n",
            " 1   meeting_transcript  210 non-null    object\n",
            " 2   summary             210 non-null    object\n",
            "dtypes: object(3)\n",
            "memory usage: 5.1+ KB\n"
          ]
        }
      ]
    },
    {
      "cell_type": "code",
      "source": [
        "final_test_df = pd.concat([final_test_df, query_test], axis=0, ignore_index=True)"
      ],
      "metadata": {
        "id": "9SXVXl-n8S2-"
      },
      "execution_count": 41,
      "outputs": []
    },
    {
      "cell_type": "code",
      "source": [
        "final_test_df.info()"
      ],
      "metadata": {
        "id": "8MILGrrU6r4g",
        "outputId": "17d55551-f5f5-4f69-f8bf-bbf96b28c042",
        "colab": {
          "base_uri": "https://localhost:8080/"
        }
      },
      "execution_count": 42,
      "outputs": [
        {
          "output_type": "stream",
          "name": "stdout",
          "text": [
            "<class 'pandas.core.frame.DataFrame'>\n",
            "RangeIndex: 1072 entries, 0 to 1071\n",
            "Data columns (total 3 columns):\n",
            " #   Column              Non-Null Count  Dtype \n",
            "---  ------              --------------  ----- \n",
            " 0   meeting_transcript  1072 non-null   object\n",
            " 1   summary             1072 non-null   object\n",
            " 2   prompt              1072 non-null   object\n",
            "dtypes: object(3)\n",
            "memory usage: 25.3+ KB\n"
          ]
        }
      ]
    },
    {
      "cell_type": "code",
      "source": [
        "def save_df_in(df, path):\n",
        "  df.to_parquet(f\"{path}.parquet\", index=False)"
      ],
      "metadata": {
        "id": "oNF0UDrDYrvs"
      },
      "execution_count": 43,
      "outputs": []
    },
    {
      "cell_type": "code",
      "source": [
        "def save_df_as_chunks(df, path, chunk_size=1000):\n",
        "  chunks = [df.iloc[i:i+chunk_size] for i in range(0, len(df), chunk_size)]\n",
        "  output_path = f\"{path}_chunk\"\n",
        "  for i, chunk in enumerate(chunks):\n",
        "    save_df_in(chunk, f\"{output_path}_{i+1}\")\n"
      ],
      "metadata": {
        "id": "vSNzeyt2ztYJ"
      },
      "execution_count": 44,
      "outputs": []
    },
    {
      "cell_type": "code",
      "source": [
        "save_df_as_chunks(train_df, \"train\")\n",
        "save_df_in(final_val_df, \"val\")\n",
        "save_df_in(final_test_df, \"test\")"
      ],
      "metadata": {
        "id": "Z0b0kbZtY28T"
      },
      "execution_count": 45,
      "outputs": []
    },
    {
      "cell_type": "code",
      "source": [
        "chunk_size=1000\n",
        "num_chunks = len(train_df) // chunk_size + 1\n",
        "print(\"Number of Chunks: \", num_chunks)\n",
        "for i in range(num_chunks):\n",
        "  chunk = pd.read_parquet(f\"train_chunk_{i+1}.parquet\")\n",
        "  print(f\"Number of Rows in Chunk {i+1}: \", len(chunk))\n",
        "print(\"Number of Rows in Original: \", len(train_df))"
      ],
      "metadata": {
        "id": "5kq0sVYbY7Dm",
        "colab": {
          "base_uri": "https://localhost:8080/"
        },
        "outputId": "98121325-4d56-414e-f1cc-d9d3bc429f58"
      },
      "execution_count": 46,
      "outputs": [
        {
          "output_type": "stream",
          "name": "stdout",
          "text": [
            "Number of Chunks:  7\n",
            "Number of Rows in Chunk 1:  1000\n",
            "Number of Rows in Chunk 2:  1000\n",
            "Number of Rows in Chunk 3:  1000\n",
            "Number of Rows in Chunk 4:  1000\n",
            "Number of Rows in Chunk 5:  1000\n",
            "Number of Rows in Chunk 6:  1000\n",
            "Number of Rows in Chunk 7:  149\n",
            "Number of Rows in Original:  6149\n"
          ]
        }
      ]
    },
    {
      "cell_type": "code",
      "source": [],
      "metadata": {
        "id": "OuCCwKVc1Iw-"
      },
      "execution_count": null,
      "outputs": []
    }
  ]
}